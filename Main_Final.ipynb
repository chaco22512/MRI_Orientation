{
  "nbformat": 4,
  "nbformat_minor": 0,
  "metadata": {
    "colab": {
      "name": "Main.ipynb",
      "provenance": [],
      "collapsed_sections": [
        "qj3FtUiCsW4v"
      ],
      "machine_shape": "hm"
    },
    "kernelspec": {
      "display_name": "Python 3",
      "language": "python",
      "name": "python3"
    },
    "language_info": {
      "codemirror_mode": {
        "name": "ipython",
        "version": 3
      },
      "file_extension": ".py",
      "mimetype": "text/x-python",
      "name": "python",
      "nbconvert_exporter": "python",
      "pygments_lexer": "ipython3",
      "version": "3.7.5"
    }
  },
  "cells": [
    {
      "cell_type": "markdown",
      "metadata": {
        "colab_type": "text",
        "id": "tKqPpk_MzUM7"
      },
      "source": [
        "# Orientation classification of cMRI image data on the basis of DICOM\n",
        "\n",
        "### Introduction\n",
        "\n",
        "Visualization of each organ by MRI is largely a function of imaging planes. The best dipiction of the specific tissues is possible when the imaging plane is perpendicular to the region of interest.\n",
        "Currently, when using the cMRI, the following imaging plane are available;\n",
        "\n",
        "* Standard planes : colonal(A), sagital(B), and axial plane(C) (three orthogonal plane, and doesn't follow the cardiac orientation)\n",
        "* modified planes : Along with the heart orientation ...Short axis(transverse axis perpendicular to the VS), Long axis 2/3/4 cavities, Multiplanar\n",
        "\n",
        "※ventricular septum(VS) : the stout wall separating the ventricles, the lower chambers of the heart from one another\n",
        "\n",
        "※Left ventricular (LV)\n",
        "\n",
        "Recognition of such orientations or “cardiac views” is a prerequisite for computer-aided diagnosis and for computerassisted workflow automation based on image contents. The goal of this study is to automatically classify cardiac MR images with respect to what view of the heart they contain.\n",
        "\n",
        "### Each modified image plane\n",
        "#### 1. short axis\n",
        "Short axis slices are oriented __perpendicular to LV long axis__.These are acquired regularly spaced from the cardiac base to the apex of the heart, often as __a cine 3D+t stack__. These views are excellent for reproducible volumetric measurements or radial cardiac motion analysis.\n",
        "#### 2. long axis (2,3,4 cavities(chambers))\n",
        "The long axis slices are usually acquired as __2D static images or cine 2D+t stacks__. Three types of long axis image are created from short-axis images in order to visualize the chambers in heart(The following figure4). The 2-chamber, 3-chamber, and 4-chamber views are used to visualise different regions of the left ventricle (LV), mitral valve (MV) apparatus, aortic root and left atrium (LA). The 3-chamber and the Left ventricular outflow tract (LVOT) views provide visualisation of the aortic root from two orthogonal planes and help to detect any obstructions of the outflow tract and/or aortic valve (AV) regurgitation. The 4-chamber view visualises both atrio-ventricular valves, all four cardiac chambers and their interplay.\n",
        "#### 3. Multi plannar(3 types; multiplannar, multiplanner(short axis), and multiplanner(radical)) and None label\n",
        "Multiplanar orientation is just a collection of different singular orientations. None is a label that identify sequences that are composed by items different from pure image. Usually there is a result report, or a mosaic imageof key elements.\n",
        "\n",
        "\n",
        "### Dataset\n",
        "As dataset of cMRI, we can use the excel file including some features on the basis of DICOM metadata. In order to implement the automatical algorithm to recognize the cMRI orientartion, we can use these DICOM-derived features(the image plane orientation vectors) and imageen-derived features.\n",
        "In the data, there are multiple MRI image which were taken on the basis of 9 different imaging planes(labels in this time)."
      ]
    },
    {
      "cell_type": "code",
      "metadata": {
        "colab_type": "code",
        "id": "XkNVj6o_164o",
        "outputId": "f2b42e55-f021-4e79-d5ec-73ded58d7abf",
        "colab": {
          "base_uri": "https://localhost:8080/",
          "height": 80
        }
      },
      "source": [
        "# Data package for deep learning\n",
        "from sklearn.preprocessing import label_binarize\n",
        "from sklearn.metrics import confusion_matrix\n",
        "\n",
        "import numpy as np\n",
        "import keras\n",
        "from keras.models import Sequential\n",
        "from keras.layers import Dense, Dropout, Flatten, Conv2D, MaxPool2D\n",
        "from keras import backend as K\n",
        "from keras.layers.normalization import BatchNormalization\n",
        "from keras.utils.np_utils import to_categorical # convert to one-hot-encoding\n",
        "from keras.optimizers import Adam\n",
        "from keras.preprocessing.image import ImageDataGenerator\n",
        "from keras.callbacks import ReduceLROnPlateau\n",
        "from sklearn.model_selection import train_test_split\n",
        "\n",
        "np.random.seed(123)"
      ],
      "execution_count": 1,
      "outputs": [
        {
          "output_type": "stream",
          "text": [
            "Using TensorFlow backend.\n"
          ],
          "name": "stderr"
        },
        {
          "output_type": "display_data",
          "data": {
            "text/html": [
              "<p style=\"color: red;\">\n",
              "The default version of TensorFlow in Colab will soon switch to TensorFlow 2.x.<br>\n",
              "We recommend you <a href=\"https://www.tensorflow.org/guide/migrate\" target=\"_blank\">upgrade</a> now \n",
              "or ensure your notebook will continue to use TensorFlow 1.x via the <code>%tensorflow_version 1.x</code> magic:\n",
              "<a href=\"https://colab.research.google.com/notebooks/tensorflow_version.ipynb\" target=\"_blank\">more info</a>.</p>\n"
            ],
            "text/plain": [
              "<IPython.core.display.HTML object>"
            ]
          },
          "metadata": {
            "tags": []
          }
        }
      ]
    },
    {
      "cell_type": "code",
      "metadata": {
        "colab_type": "code",
        "id": "Elfjxt6NzSFi",
        "outputId": "abb13e96-f29a-4338-97da-fd8cd07b38f7",
        "colab": {
          "resources": {
            "http://localhost:8080/nbextensions/google.colab/files.js": {
              "data": "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",
              "ok": true,
              "headers": [
                [
                  "content-type",
                  "application/javascript"
                ]
              ],
              "status": 200,
              "status_text": ""
            }
          },
          "base_uri": "https://localhost:8080/",
          "height": 79
        }
      },
      "source": [
        "from google.colab import files\n",
        "uploaded = files.upload()\n"
      ],
      "execution_count": 2,
      "outputs": [
        {
          "output_type": "display_data",
          "data": {
            "text/html": [
              "\n",
              "     <input type=\"file\" id=\"files-63c9a5bd-9b68-415c-a963-4076108b99b4\" name=\"files[]\" multiple disabled />\n",
              "     <output id=\"result-63c9a5bd-9b68-415c-a963-4076108b99b4\">\n",
              "      Upload widget is only available when the cell has been executed in the\n",
              "      current browser session. Please rerun this cell to enable.\n",
              "      </output>\n",
              "      <script src=\"/nbextensions/google.colab/files.js\"></script> "
            ],
            "text/plain": [
              "<IPython.core.display.HTML object>"
            ]
          },
          "metadata": {
            "tags": []
          }
        },
        {
          "output_type": "stream",
          "text": [
            "Saving Test_technique.xlsx to Test_technique.xlsx\n"
          ],
          "name": "stdout"
        }
      ]
    },
    {
      "cell_type": "code",
      "metadata": {
        "colab_type": "code",
        "id": "7MHjadBWo_Ws",
        "outputId": "e85d48ec-8074-471a-fa6f-d2a353bb3bb7",
        "colab": {
          "base_uri": "https://localhost:8080/",
          "height": 394
        }
      },
      "source": [
        "# Data input\n",
        "import pandas as pd\n",
        "df = pd.read_excel('Test_technique.xlsx')\n",
        "df.head()"
      ],
      "execution_count": 3,
      "outputs": [
        {
          "output_type": "execute_result",
          "data": {
            "text/html": [
              "<div>\n",
              "<style scoped>\n",
              "    .dataframe tbody tr th:only-of-type {\n",
              "        vertical-align: middle;\n",
              "    }\n",
              "\n",
              "    .dataframe tbody tr th {\n",
              "        vertical-align: top;\n",
              "    }\n",
              "\n",
              "    .dataframe thead th {\n",
              "        text-align: right;\n",
              "    }\n",
              "</style>\n",
              "<table border=\"1\" class=\"dataframe\">\n",
              "  <thead>\n",
              "    <tr style=\"text-align: right;\">\n",
              "      <th></th>\n",
              "      <th>PatientName</th>\n",
              "      <th>StudyInstanceUID</th>\n",
              "      <th>NumberOfSeriesInStudy</th>\n",
              "      <th>SeriesDescription</th>\n",
              "      <th>SeriesInstanceUID</th>\n",
              "      <th>SeriesNumber</th>\n",
              "      <th>ImageSize</th>\n",
              "      <th>PixelSpacing</th>\n",
              "      <th>SliceThickness</th>\n",
              "      <th>ImagePositionPatient</th>\n",
              "      <th>ImageOrientationPatient</th>\n",
              "      <th>SliceLocation</th>\n",
              "      <th>FlipAngle</th>\n",
              "      <th>TriggerTime</th>\n",
              "      <th>EchoTime</th>\n",
              "      <th>RepetitionTime</th>\n",
              "      <th>CartesianNormalVector</th>\n",
              "      <th>SphericalNormalVector</th>\n",
              "      <th>Format</th>\n",
              "      <th>Orientation</th>\n",
              "      <th>Organ</th>\n",
              "    </tr>\n",
              "  </thead>\n",
              "  <tbody>\n",
              "    <tr>\n",
              "      <th>0</th>\n",
              "      <td>Ijifa_224_GO</td>\n",
              "      <td>1.2.124.113532.10.160.226.57.20150729.151548.7...</td>\n",
              "      <td>1</td>\n",
              "      <td>Localizer_Pseudo_SAX</td>\n",
              "      <td>1.2.840.113704.7.32.0.2.18.41095.2015110413342...</td>\n",
              "      <td>3</td>\n",
              "      <td>[[256, 256]]</td>\n",
              "      <td>[[1.5625, 1.5625]]</td>\n",
              "      <td>8</td>\n",
              "      <td>[[-200.63540710429, -85.56523264413, 11.427837...</td>\n",
              "      <td>[[[0.78486097661673, -3.763314e-09, 0.61967188...</td>\n",
              "      <td>[55.79317092895508, -11.40682601928711, -0.206...</td>\n",
              "      <td>[68.0]</td>\n",
              "      <td>[162.5, 160.0, 412.5, 417.5, 480.0, 170.0, 262...</td>\n",
              "      <td>[1.100000023841858]</td>\n",
              "      <td>[249.27000427246094]</td>\n",
              "      <td>[[-0.4969739551138094, 0.597330308291177, 0.62...</td>\n",
              "      <td>[[2.264742374420166, 0.680851399898529]]</td>\n",
              "      <td>3D</td>\n",
              "      <td>Short Axis</td>\n",
              "      <td>Thorax &amp; Abdomen</td>\n",
              "    </tr>\n",
              "    <tr>\n",
              "      <th>1</th>\n",
              "      <td>Ijifa_204_BJC</td>\n",
              "      <td>1.2.124.113532.10.160.226.57.20150805.133941.7...</td>\n",
              "      <td>78</td>\n",
              "      <td>DefineSAX_PA</td>\n",
              "      <td>1.2.840.113704.7.32.0.2.18.41095.2016012513414...</td>\n",
              "      <td>5</td>\n",
              "      <td>[[256, 256]]</td>\n",
              "      <td>[[1.953125, 1.953125]]</td>\n",
              "      <td>7</td>\n",
              "      <td>[[23.942903443096, -172.71910443149, 314.50556...</td>\n",
              "      <td>[[[0.49265794684907, 0.81705595917421, -0.2995...</td>\n",
              "      <td>[-17.19231414794922, 45.80768585205078, 56.307...</td>\n",
              "      <td>[80.0]</td>\n",
              "      <td>[802.5, 805.0, 807.5]</td>\n",
              "      <td>[1.059999942779541]</td>\n",
              "      <td>[242.4199981689453]</td>\n",
              "      <td>[[-0.698158507616251, 0.576558374822477, 0.424...</td>\n",
              "      <td>[[2.451300621032715, 0.4383509159088135]]</td>\n",
              "      <td>3D</td>\n",
              "      <td>Short Axis</td>\n",
              "      <td>Heart</td>\n",
              "    </tr>\n",
              "    <tr>\n",
              "      <th>2</th>\n",
              "      <td>Ijifa_204_BJC</td>\n",
              "      <td>1.2.124.113532.10.160.226.57.20150805.133941.7...</td>\n",
              "      <td>78</td>\n",
              "      <td>T1Map_LongT1_PA_b3s_PA_b2s_PA_b1s_MOCO_T1</td>\n",
              "      <td>1.2.840.113704.7.32.0.2.18.41095.2016012513555...</td>\n",
              "      <td>36</td>\n",
              "      <td>[[256, 180]]</td>\n",
              "      <td>[[1.5625, 1.5625]]</td>\n",
              "      <td>8</td>\n",
              "      <td>[[72.179729584959, -102.20561266346, 212.10701...</td>\n",
              "      <td>[[[0.52453054475053, 0.81541979079249, -0.2448...</td>\n",
              "      <td>[19.292226791381836, 41.51932144165039, -1.235...</td>\n",
              "      <td>[35.0]</td>\n",
              "      <td>[885.0]</td>\n",
              "      <td>[]</td>\n",
              "      <td>[]</td>\n",
              "      <td>[[-0.698158471807469, 0.5765583861946223, 0.42...</td>\n",
              "      <td>[[2.4513003826141357, 0.43835094571113586], [2...</td>\n",
              "      <td>3D+TI</td>\n",
              "      <td>Multiplanar (Short axis)</td>\n",
              "      <td>Heart</td>\n",
              "    </tr>\n",
              "    <tr>\n",
              "      <th>3</th>\n",
              "      <td>Ijifa_204_BJC</td>\n",
              "      <td>1.2.124.113532.10.160.226.57.20150805.133941.7...</td>\n",
              "      <td>78</td>\n",
              "      <td>CINE_segmented_SAX_PA_b6</td>\n",
              "      <td>1.2.840.113704.7.32.0.2.18.41095.2016012514271...</td>\n",
              "      <td>60</td>\n",
              "      <td>[[288, 240]]</td>\n",
              "      <td>[[1.3194444179534912, 1.3194444179534912]]</td>\n",
              "      <td>7</td>\n",
              "      <td>[[47.740761582602, -116.99462113737, 212.74662...</td>\n",
              "      <td>[[[0.52453054475053, 0.81541979079249, -0.2448...</td>\n",
              "      <td>[10.485198974609375]</td>\n",
              "      <td>[54.0]</td>\n",
              "      <td>[91.12000274658203, 45.560001373291016, 364.48...</td>\n",
              "      <td>[1.2300000190734863]</td>\n",
              "      <td>[59.20000076293945]</td>\n",
              "      <td>[[-0.698158471807469, 0.5765583861946223, 0.42...</td>\n",
              "      <td>[[2.4513003826141357, 0.43835094571113586]]</td>\n",
              "      <td>2D+t</td>\n",
              "      <td>Short Axis</td>\n",
              "      <td>Heart</td>\n",
              "    </tr>\n",
              "    <tr>\n",
              "      <th>4</th>\n",
              "      <td>Ijifa_204_BJC</td>\n",
              "      <td>1.2.124.113532.10.160.226.57.20150805.133941.7...</td>\n",
              "      <td>78</td>\n",
              "      <td>Q_flow Aorte tubulaire_150_tp_retro_bh_ePAT@c ...</td>\n",
              "      <td>1.2.840.113704.7.32.05.2.18.41095.201601251353...</td>\n",
              "      <td>28</td>\n",
              "      <td>[[132, 192]]</td>\n",
              "      <td>[[1.7708333730697632, 1.7708333730697632]]</td>\n",
              "      <td>8</td>\n",
              "      <td>[[-172.1453537941, -85.152832580976, 90.591166...</td>\n",
              "      <td>[[[1.0, 0.0, 0.0], [0.0, 0.99950656036366, 0.0...</td>\n",
              "      <td>[93.22117614746094]</td>\n",
              "      <td>[20.0]</td>\n",
              "      <td>[184.0, 165.59999084472656, 1048.7999267578125...</td>\n",
              "      <td>[2.440000057220459]</td>\n",
              "      <td>[18.1200008392334]</td>\n",
              "      <td>[[0.0, -0.03141075914411, 0.99950656036366]]</td>\n",
              "      <td>[[-1.5707963705062866, 1.539380431175232]]</td>\n",
              "      <td>2D+t</td>\n",
              "      <td>Axial</td>\n",
              "      <td>Aorta</td>\n",
              "    </tr>\n",
              "  </tbody>\n",
              "</table>\n",
              "</div>"
            ],
            "text/plain": [
              "     PatientName  ...             Organ\n",
              "0   Ijifa_224_GO  ...  Thorax & Abdomen\n",
              "1  Ijifa_204_BJC  ...             Heart\n",
              "2  Ijifa_204_BJC  ...             Heart\n",
              "3  Ijifa_204_BJC  ...             Heart\n",
              "4  Ijifa_204_BJC  ...             Aorta\n",
              "\n",
              "[5 rows x 21 columns]"
            ]
          },
          "metadata": {
            "tags": []
          },
          "execution_count": 3
        }
      ]
    },
    {
      "cell_type": "markdown",
      "metadata": {
        "colab_type": "text",
        "id": "cIqpB-EcpQpF"
      },
      "source": [
        "### Explanation of each data(21 different data)\n",
        "- Series: \"Series\" is more or less one acquisition from the MRI that gives a consistent pack of images. When a patient undergoes an imaging session, multiples series(sequencies) are usually acquired, forming what is called a \"Study\" in DICOM standard. The series number is usually the index of the serie in the study, but than not mandatory. This is information that we extracted from our data, but that is not useful to this work. In addition,‘SeriesDescription’ field, which may contain substrings“2cv” or “2chamber” indicating a two-chamber view,“4cv” or “4chamber” indicating a four-chamber view. However, such a coding scheme, if not missing completely, may be in different languages, and are usually hospital, scanner, and/or user dependent; hence unreliable.\n",
        "\n",
        "- pixel-spacing: the distance between centers of two adjacent pixels (unit:mm)\n",
        "\n",
        "- Image Position(Patients): it specifies the x, y, and z coordinates of the upper left hand corner of the image; it is the center of the first voxel transmitted. Regarding the first voxel transmitted, this is the first voxel of the pixel buffer, which is the upper-left one of images.\n",
        "\n",
        "- Image orientation : it encodes the orientation(direction cosine) of the MRI slice plane in the patient coordinate. This information can serve as a good pre-filter (i.e., provide a good prior), although diseases and abnormalities abound, and some views are more easily confused with others. Furthermore, noncardiac images may have these orientations as well.\n",
        "\n",
        "- Flip angle : it is the angle which the hydrogen spin is altered when applying the RF signal into the subject. If the flip angle is 90 degree, the hydrogen spin is completely projected into transverse(xy) plane.\n",
        "\n",
        "- Normal vector(Cartesian, spherical) : it is the third orthogonal vector of the matrix, which is perpendicular to the image plane. Normal vectors are the result of cross product (and not dot product) of the two first vector (in-plane vector), so yes they are perpendicular to the image plane. That explains why non-multiplanar sequence have only one normal vector. "
      ]
    },
    {
      "cell_type": "code",
      "metadata": {
        "colab_type": "code",
        "id": "Py58g3eJpS_m",
        "outputId": "2be505b9-1059-467f-f25c-4788884723c9",
        "colab": {
          "base_uri": "https://localhost:8080/",
          "height": 578
        }
      },
      "source": [
        "## data infomation\n",
        "df.info()\n",
        "df.nunique()\n",
        "df.columns"
      ],
      "execution_count": 4,
      "outputs": [
        {
          "output_type": "stream",
          "text": [
            "<class 'pandas.core.frame.DataFrame'>\n",
            "RangeIndex: 12602 entries, 0 to 12601\n",
            "Data columns (total 21 columns):\n",
            "PatientName                12602 non-null object\n",
            "StudyInstanceUID           12602 non-null object\n",
            "NumberOfSeriesInStudy      12602 non-null int64\n",
            "SeriesDescription          12601 non-null object\n",
            "SeriesInstanceUID          12602 non-null object\n",
            "SeriesNumber               12602 non-null int64\n",
            "ImageSize                  12602 non-null object\n",
            "PixelSpacing               12602 non-null object\n",
            "SliceThickness             12602 non-null object\n",
            "ImagePositionPatient       12602 non-null object\n",
            "ImageOrientationPatient    12602 non-null object\n",
            "SliceLocation              12602 non-null object\n",
            "FlipAngle                  12602 non-null object\n",
            "TriggerTime                12602 non-null object\n",
            "EchoTime                   12602 non-null object\n",
            "RepetitionTime             12602 non-null object\n",
            "CartesianNormalVector      12602 non-null object\n",
            "SphericalNormalVector      12602 non-null object\n",
            "Format                     12602 non-null object\n",
            "Orientation                12602 non-null object\n",
            "Organ                      12602 non-null object\n",
            "dtypes: int64(2), object(19)\n",
            "memory usage: 2.0+ MB\n"
          ],
          "name": "stdout"
        },
        {
          "output_type": "execute_result",
          "data": {
            "text/plain": [
              "Index(['PatientName', 'StudyInstanceUID', 'NumberOfSeriesInStudy',\n",
              "       'SeriesDescription', 'SeriesInstanceUID', 'SeriesNumber', 'ImageSize',\n",
              "       'PixelSpacing', 'SliceThickness', 'ImagePositionPatient',\n",
              "       'ImageOrientationPatient', 'SliceLocation', 'FlipAngle', 'TriggerTime',\n",
              "       'EchoTime', 'RepetitionTime', 'CartesianNormalVector',\n",
              "       'SphericalNormalVector', 'Format', 'Orientation', 'Organ'],\n",
              "      dtype='object')"
            ]
          },
          "metadata": {
            "tags": []
          },
          "execution_count": 4
        }
      ]
    },
    {
      "cell_type": "code",
      "metadata": {
        "colab_type": "code",
        "id": "cl9U6qaC1sRn",
        "outputId": "07dfdc54-589e-4521-8de0-20d3c022b747",
        "colab": {
          "base_uri": "https://localhost:8080/",
          "height": 779
        }
      },
      "source": [
        "# labeling (orientation) : we just try to invert each label into the code(0-10)\n",
        "orientation_type_dict = {\n",
        "    'Short Axis': 'SH',\n",
        "    'Axial':'AL',\n",
        "    'Sagittal':'SG',\n",
        "    'Coronal':'CR',\n",
        "    'Long Axis 2 Cavities':'LG2',\n",
        "    'Long Axis 3 Cavities':'LG3',\n",
        "    'Long Axis 4 Cavities':'LG4',\n",
        "    'Multiplanar':'ML1',\n",
        "    'Multiplanar (Short axis)':'ML2',\n",
        "    'Multiplanar (Radial)':'ML3',\n",
        "    'None':'NO'}\n",
        "\n",
        "# Creating New Columns for better readability\n",
        "\n",
        "df['orientation_1'] = df['Orientation'].map(orientation_type_dict.get) \n",
        "df['orientation_index'] = pd.Categorical(df['orientation_1']).codes\n",
        "df"
      ],
      "execution_count": 5,
      "outputs": [
        {
          "output_type": "execute_result",
          "data": {
            "text/html": [
              "<div>\n",
              "<style scoped>\n",
              "    .dataframe tbody tr th:only-of-type {\n",
              "        vertical-align: middle;\n",
              "    }\n",
              "\n",
              "    .dataframe tbody tr th {\n",
              "        vertical-align: top;\n",
              "    }\n",
              "\n",
              "    .dataframe thead th {\n",
              "        text-align: right;\n",
              "    }\n",
              "</style>\n",
              "<table border=\"1\" class=\"dataframe\">\n",
              "  <thead>\n",
              "    <tr style=\"text-align: right;\">\n",
              "      <th></th>\n",
              "      <th>PatientName</th>\n",
              "      <th>StudyInstanceUID</th>\n",
              "      <th>NumberOfSeriesInStudy</th>\n",
              "      <th>SeriesDescription</th>\n",
              "      <th>SeriesInstanceUID</th>\n",
              "      <th>SeriesNumber</th>\n",
              "      <th>ImageSize</th>\n",
              "      <th>PixelSpacing</th>\n",
              "      <th>SliceThickness</th>\n",
              "      <th>ImagePositionPatient</th>\n",
              "      <th>ImageOrientationPatient</th>\n",
              "      <th>SliceLocation</th>\n",
              "      <th>FlipAngle</th>\n",
              "      <th>TriggerTime</th>\n",
              "      <th>EchoTime</th>\n",
              "      <th>RepetitionTime</th>\n",
              "      <th>CartesianNormalVector</th>\n",
              "      <th>SphericalNormalVector</th>\n",
              "      <th>Format</th>\n",
              "      <th>Orientation</th>\n",
              "      <th>Organ</th>\n",
              "      <th>orientation_1</th>\n",
              "      <th>orientation_index</th>\n",
              "    </tr>\n",
              "  </thead>\n",
              "  <tbody>\n",
              "    <tr>\n",
              "      <th>0</th>\n",
              "      <td>Ijifa_224_GO</td>\n",
              "      <td>1.2.124.113532.10.160.226.57.20150729.151548.7...</td>\n",
              "      <td>1</td>\n",
              "      <td>Localizer_Pseudo_SAX</td>\n",
              "      <td>1.2.840.113704.7.32.0.2.18.41095.2015110413342...</td>\n",
              "      <td>3</td>\n",
              "      <td>[[256, 256]]</td>\n",
              "      <td>[[1.5625, 1.5625]]</td>\n",
              "      <td>8</td>\n",
              "      <td>[[-200.63540710429, -85.56523264413, 11.427837...</td>\n",
              "      <td>[[[0.78486097661673, -3.763314e-09, 0.61967188...</td>\n",
              "      <td>[55.79317092895508, -11.40682601928711, -0.206...</td>\n",
              "      <td>[68.0]</td>\n",
              "      <td>[162.5, 160.0, 412.5, 417.5, 480.0, 170.0, 262...</td>\n",
              "      <td>[1.100000023841858]</td>\n",
              "      <td>[249.27000427246094]</td>\n",
              "      <td>[[-0.4969739551138094, 0.597330308291177, 0.62...</td>\n",
              "      <td>[[2.264742374420166, 0.680851399898529]]</td>\n",
              "      <td>3D</td>\n",
              "      <td>Short Axis</td>\n",
              "      <td>Thorax &amp; Abdomen</td>\n",
              "      <td>SH</td>\n",
              "      <td>10</td>\n",
              "    </tr>\n",
              "    <tr>\n",
              "      <th>1</th>\n",
              "      <td>Ijifa_204_BJC</td>\n",
              "      <td>1.2.124.113532.10.160.226.57.20150805.133941.7...</td>\n",
              "      <td>78</td>\n",
              "      <td>DefineSAX_PA</td>\n",
              "      <td>1.2.840.113704.7.32.0.2.18.41095.2016012513414...</td>\n",
              "      <td>5</td>\n",
              "      <td>[[256, 256]]</td>\n",
              "      <td>[[1.953125, 1.953125]]</td>\n",
              "      <td>7</td>\n",
              "      <td>[[23.942903443096, -172.71910443149, 314.50556...</td>\n",
              "      <td>[[[0.49265794684907, 0.81705595917421, -0.2995...</td>\n",
              "      <td>[-17.19231414794922, 45.80768585205078, 56.307...</td>\n",
              "      <td>[80.0]</td>\n",
              "      <td>[802.5, 805.0, 807.5]</td>\n",
              "      <td>[1.059999942779541]</td>\n",
              "      <td>[242.4199981689453]</td>\n",
              "      <td>[[-0.698158507616251, 0.576558374822477, 0.424...</td>\n",
              "      <td>[[2.451300621032715, 0.4383509159088135]]</td>\n",
              "      <td>3D</td>\n",
              "      <td>Short Axis</td>\n",
              "      <td>Heart</td>\n",
              "      <td>SH</td>\n",
              "      <td>10</td>\n",
              "    </tr>\n",
              "    <tr>\n",
              "      <th>2</th>\n",
              "      <td>Ijifa_204_BJC</td>\n",
              "      <td>1.2.124.113532.10.160.226.57.20150805.133941.7...</td>\n",
              "      <td>78</td>\n",
              "      <td>T1Map_LongT1_PA_b3s_PA_b2s_PA_b1s_MOCO_T1</td>\n",
              "      <td>1.2.840.113704.7.32.0.2.18.41095.2016012513555...</td>\n",
              "      <td>36</td>\n",
              "      <td>[[256, 180]]</td>\n",
              "      <td>[[1.5625, 1.5625]]</td>\n",
              "      <td>8</td>\n",
              "      <td>[[72.179729584959, -102.20561266346, 212.10701...</td>\n",
              "      <td>[[[0.52453054475053, 0.81541979079249, -0.2448...</td>\n",
              "      <td>[19.292226791381836, 41.51932144165039, -1.235...</td>\n",
              "      <td>[35.0]</td>\n",
              "      <td>[885.0]</td>\n",
              "      <td>[]</td>\n",
              "      <td>[]</td>\n",
              "      <td>[[-0.698158471807469, 0.5765583861946223, 0.42...</td>\n",
              "      <td>[[2.4513003826141357, 0.43835094571113586], [2...</td>\n",
              "      <td>3D+TI</td>\n",
              "      <td>Multiplanar (Short axis)</td>\n",
              "      <td>Heart</td>\n",
              "      <td>ML2</td>\n",
              "      <td>6</td>\n",
              "    </tr>\n",
              "    <tr>\n",
              "      <th>3</th>\n",
              "      <td>Ijifa_204_BJC</td>\n",
              "      <td>1.2.124.113532.10.160.226.57.20150805.133941.7...</td>\n",
              "      <td>78</td>\n",
              "      <td>CINE_segmented_SAX_PA_b6</td>\n",
              "      <td>1.2.840.113704.7.32.0.2.18.41095.2016012514271...</td>\n",
              "      <td>60</td>\n",
              "      <td>[[288, 240]]</td>\n",
              "      <td>[[1.3194444179534912, 1.3194444179534912]]</td>\n",
              "      <td>7</td>\n",
              "      <td>[[47.740761582602, -116.99462113737, 212.74662...</td>\n",
              "      <td>[[[0.52453054475053, 0.81541979079249, -0.2448...</td>\n",
              "      <td>[10.485198974609375]</td>\n",
              "      <td>[54.0]</td>\n",
              "      <td>[91.12000274658203, 45.560001373291016, 364.48...</td>\n",
              "      <td>[1.2300000190734863]</td>\n",
              "      <td>[59.20000076293945]</td>\n",
              "      <td>[[-0.698158471807469, 0.5765583861946223, 0.42...</td>\n",
              "      <td>[[2.4513003826141357, 0.43835094571113586]]</td>\n",
              "      <td>2D+t</td>\n",
              "      <td>Short Axis</td>\n",
              "      <td>Heart</td>\n",
              "      <td>SH</td>\n",
              "      <td>10</td>\n",
              "    </tr>\n",
              "    <tr>\n",
              "      <th>4</th>\n",
              "      <td>Ijifa_204_BJC</td>\n",
              "      <td>1.2.124.113532.10.160.226.57.20150805.133941.7...</td>\n",
              "      <td>78</td>\n",
              "      <td>Q_flow Aorte tubulaire_150_tp_retro_bh_ePAT@c ...</td>\n",
              "      <td>1.2.840.113704.7.32.05.2.18.41095.201601251353...</td>\n",
              "      <td>28</td>\n",
              "      <td>[[132, 192]]</td>\n",
              "      <td>[[1.7708333730697632, 1.7708333730697632]]</td>\n",
              "      <td>8</td>\n",
              "      <td>[[-172.1453537941, -85.152832580976, 90.591166...</td>\n",
              "      <td>[[[1.0, 0.0, 0.0], [0.0, 0.99950656036366, 0.0...</td>\n",
              "      <td>[93.22117614746094]</td>\n",
              "      <td>[20.0]</td>\n",
              "      <td>[184.0, 165.59999084472656, 1048.7999267578125...</td>\n",
              "      <td>[2.440000057220459]</td>\n",
              "      <td>[18.1200008392334]</td>\n",
              "      <td>[[0.0, -0.03141075914411, 0.99950656036366]]</td>\n",
              "      <td>[[-1.5707963705062866, 1.539380431175232]]</td>\n",
              "      <td>2D+t</td>\n",
              "      <td>Axial</td>\n",
              "      <td>Aorta</td>\n",
              "      <td>AL</td>\n",
              "      <td>0</td>\n",
              "    </tr>\n",
              "    <tr>\n",
              "      <th>...</th>\n",
              "      <td>...</td>\n",
              "      <td>...</td>\n",
              "      <td>...</td>\n",
              "      <td>...</td>\n",
              "      <td>...</td>\n",
              "      <td>...</td>\n",
              "      <td>...</td>\n",
              "      <td>...</td>\n",
              "      <td>...</td>\n",
              "      <td>...</td>\n",
              "      <td>...</td>\n",
              "      <td>...</td>\n",
              "      <td>...</td>\n",
              "      <td>...</td>\n",
              "      <td>...</td>\n",
              "      <td>...</td>\n",
              "      <td>...</td>\n",
              "      <td>...</td>\n",
              "      <td>...</td>\n",
              "      <td>...</td>\n",
              "      <td>...</td>\n",
              "      <td>...</td>\n",
              "      <td>...</td>\n",
              "    </tr>\n",
              "    <tr>\n",
              "      <th>12597</th>\n",
              "      <td>Ijifa_128_HF</td>\n",
              "      <td>1.2.124.113532.10.160.226.57.20171113.101639.1...</td>\n",
              "      <td>72</td>\n",
              "      <td>Q_flow Aorte tubulaire_150_tp_retro_bh_ePAT@c ...</td>\n",
              "      <td>1.2.840.113704.7.32.0.2.18.41095.2018011713463...</td>\n",
              "      <td>37</td>\n",
              "      <td>[[132, 192]]</td>\n",
              "      <td>[[2.0833332538604736, 2.0833332538604736]]</td>\n",
              "      <td>8</td>\n",
              "      <td>[[-198.27125036716, -119.563031654, 14.0392197...</td>\n",
              "      <td>[[[1.0, 0.0, 0.0], [0.0, 0.98713626451576, 0.1...</td>\n",
              "      <td>[32.97450256347656]</td>\n",
              "      <td>[20.0]</td>\n",
              "      <td>[323.433349609375, 333.8666687011719, 459.0666...</td>\n",
              "      <td>[2.319999933242798]</td>\n",
              "      <td>[17.559999465942383]</td>\n",
              "      <td>[[0.0, -0.15988119113225, 0.98713626451576]]</td>\n",
              "      <td>[[-1.5707963705062866, 1.4102259874343872]]</td>\n",
              "      <td>2D+t</td>\n",
              "      <td>Axial</td>\n",
              "      <td>Aorta</td>\n",
              "      <td>AL</td>\n",
              "      <td>0</td>\n",
              "    </tr>\n",
              "    <tr>\n",
              "      <th>12598</th>\n",
              "      <td>Ijifa_128_HF</td>\n",
              "      <td>1.2.124.113532.10.160.226.57.20171113.101639.1...</td>\n",
              "      <td>72</td>\n",
              "      <td>T2Map_TrueFISP_PA_b3s_MOCO</td>\n",
              "      <td>1.2.840.113704.7.32.0.2.18.41095.2018011713341...</td>\n",
              "      <td>16</td>\n",
              "      <td>[[192, 184]]</td>\n",
              "      <td>[[1.875, 1.875]]</td>\n",
              "      <td>8</td>\n",
              "      <td>[[51.917082919297, -151.08079213743, 143.99640...</td>\n",
              "      <td>[[[0.63500270589145, 0.72940931933115, -0.2544...</td>\n",
              "      <td>[-87.6176986694336]</td>\n",
              "      <td>[70.0]</td>\n",
              "      <td>[617.5]</td>\n",
              "      <td>[1.059999942779541]</td>\n",
              "      <td>[210.6999969482422]</td>\n",
              "      <td>[[-0.6471025332625053, 0.6821290828938512, 0.3...</td>\n",
              "      <td>[[2.3298497200012207, 0.34747669100761414]]</td>\n",
              "      <td>2D+TE</td>\n",
              "      <td>Short Axis</td>\n",
              "      <td>Heart</td>\n",
              "      <td>SH</td>\n",
              "      <td>10</td>\n",
              "    </tr>\n",
              "    <tr>\n",
              "      <th>12599</th>\n",
              "      <td>Ijifa_128_HF</td>\n",
              "      <td>1.2.124.113532.10.160.226.57.20171113.101639.1...</td>\n",
              "      <td>72</td>\n",
              "      <td>T1Map_ShortT1_PA_b1s_PA_b2s_PA_b3s_MOCO_T1</td>\n",
              "      <td>1.2.840.113704.7.32.05.2.18.41095.201801171418...</td>\n",
              "      <td>69</td>\n",
              "      <td>[[256, 244]]</td>\n",
              "      <td>[[1.40625, 1.40625]]</td>\n",
              "      <td>8</td>\n",
              "      <td>[[36.609164708071, -134.72749754541, 153.92102...</td>\n",
              "      <td>[[[0.63129647246982, 0.72983180876062, -0.2623...</td>\n",
              "      <td>[-63.17723846435547, -37.81692886352539, -87.6...</td>\n",
              "      <td>[35.0]</td>\n",
              "      <td>[492.5, 490.0]</td>\n",
              "      <td>[]</td>\n",
              "      <td>[]</td>\n",
              "      <td>[[-0.6471025183439784, 0.682129051494818, 0.34...</td>\n",
              "      <td>[[2.3298497200012207, 0.3474767804145813], [2....</td>\n",
              "      <td>3D+TI</td>\n",
              "      <td>Multiplanar (Short axis)</td>\n",
              "      <td>Heart</td>\n",
              "      <td>ML2</td>\n",
              "      <td>6</td>\n",
              "    </tr>\n",
              "    <tr>\n",
              "      <th>12600</th>\n",
              "      <td>Ijifa_128_HF</td>\n",
              "      <td>1.2.124.113532.10.160.226.57.20171113.101639.1...</td>\n",
              "      <td>72</td>\n",
              "      <td>Q_flow Aorte tubulaire_150_tp_retro_bh_ePAT@c ...</td>\n",
              "      <td>1.2.840.113704.7.32.0.2.18.41095.2018011713461...</td>\n",
              "      <td>35</td>\n",
              "      <td>[[132, 192]]</td>\n",
              "      <td>[[2.0833332538604736, 2.0833332538604736]]</td>\n",
              "      <td>8</td>\n",
              "      <td>[[-198.27125036716, -119.563031654, 14.0392197...</td>\n",
              "      <td>[[[1.0, 0.0, 0.0], [0.0, 0.98713626451576, 0.1...</td>\n",
              "      <td>[32.97450256347656]</td>\n",
              "      <td>[20.0]</td>\n",
              "      <td>[365.1666564941406, 375.6000061035156, 417.333...</td>\n",
              "      <td>[2.319999933242798]</td>\n",
              "      <td>[17.559999465942383]</td>\n",
              "      <td>[[0.0, -0.15988119113225, 0.98713626451576]]</td>\n",
              "      <td>[[-1.5707963705062866, 1.4102259874343872]]</td>\n",
              "      <td>2D+t</td>\n",
              "      <td>Axial</td>\n",
              "      <td>Aorta</td>\n",
              "      <td>AL</td>\n",
              "      <td>0</td>\n",
              "    </tr>\n",
              "    <tr>\n",
              "      <th>12601</th>\n",
              "      <td>Ijifa_128_HF</td>\n",
              "      <td>1.2.124.113532.10.160.226.57.20171113.101639.1...</td>\n",
              "      <td>72</td>\n",
              "      <td>Dynamic_TEST_PERFUSION_PA_b1s</td>\n",
              "      <td>1.2.840.113704.7.32.0.2.18.41095.2018011713413...</td>\n",
              "      <td>31</td>\n",
              "      <td>[[192, 156]]</td>\n",
              "      <td>[[2.1875, 2.1875]]</td>\n",
              "      <td>8</td>\n",
              "      <td>[[36.493293825402, -109.71271766942, 178.06603...</td>\n",
              "      <td>[[[0.62904963121774, 0.73005862054104, -0.2670...</td>\n",
              "      <td>[-37.81692886352539]</td>\n",
              "      <td>[12.0]</td>\n",
              "      <td>[110.0]</td>\n",
              "      <td>[1.25]</td>\n",
              "      <td>[198.32000732421875]</td>\n",
              "      <td>[[-0.6471025162657947, 0.6821290420200794, 0.3...</td>\n",
              "      <td>[[2.3298497200012207, 0.3474768102169037]]</td>\n",
              "      <td>2D+T</td>\n",
              "      <td>Short Axis</td>\n",
              "      <td>Heart</td>\n",
              "      <td>SH</td>\n",
              "      <td>10</td>\n",
              "    </tr>\n",
              "  </tbody>\n",
              "</table>\n",
              "<p>12602 rows × 23 columns</p>\n",
              "</div>"
            ],
            "text/plain": [
              "         PatientName  ... orientation_index\n",
              "0       Ijifa_224_GO  ...                10\n",
              "1      Ijifa_204_BJC  ...                10\n",
              "2      Ijifa_204_BJC  ...                 6\n",
              "3      Ijifa_204_BJC  ...                10\n",
              "4      Ijifa_204_BJC  ...                 0\n",
              "...              ...  ...               ...\n",
              "12597   Ijifa_128_HF  ...                 0\n",
              "12598   Ijifa_128_HF  ...                10\n",
              "12599   Ijifa_128_HF  ...                 6\n",
              "12600   Ijifa_128_HF  ...                 0\n",
              "12601   Ijifa_128_HF  ...                10\n",
              "\n",
              "[12602 rows x 23 columns]"
            ]
          },
          "metadata": {
            "tags": []
          },
          "execution_count": 5
        }
      ]
    },
    {
      "cell_type": "code",
      "metadata": {
        "colab_type": "code",
        "id": "cKqfQOE_paYd",
        "outputId": "d73f7257-70be-4aad-c1e6-b75bdf7942a4",
        "colab": {
          "base_uri": "https://localhost:8080/",
          "height": 390
        }
      },
      "source": [
        "## Check of clustering\n",
        "df['Orientation'].value_counts().plot(kind='bar')"
      ],
      "execution_count": 6,
      "outputs": [
        {
          "output_type": "execute_result",
          "data": {
            "text/plain": [
              "<matplotlib.axes._subplots.AxesSubplot at 0x7ff31c5f85c0>"
            ]
          },
          "metadata": {
            "tags": []
          },
          "execution_count": 6
        },
        {
          "output_type": "display_data",
          "data": {
            "image/png": "[encoded data removed]",
            "text/plain": [
              "<Figure size 432x288 with 1 Axes>"
            ]
          },
          "metadata": {
            "tags": []
          }
        }
      ]
    },
    {
      "cell_type": "markdown",
      "metadata": {
        "colab_type": "text",
        "id": "AcziXopKp29M"
      },
      "source": [
        "According to the number of each orientation(label), the data imbalance happens. Thus, it is better to regulate the data-imbalance in the step of deep learning(Down-sampling)."
      ]
    },
    {
      "cell_type": "markdown",
      "metadata": {
        "colab_type": "text",
        "id": "mQBOA2yFqBTe"
      },
      "source": [
        "## Data plot\n",
        "\n",
        "Firstly, we try to see whether each data has cluster or not by plotting the normalized or spherical vector."
      ]
    },
    {
      "cell_type": "code",
      "metadata": {
        "colab_type": "code",
        "id": "D5TOSrgZphjQ",
        "colab": {}
      },
      "source": [
        "## Extraction of each labeled data\n",
        "\n",
        "SH = df.query('Orientation == \"Short Axis\"')\n",
        "\n",
        "AL = df.query('Orientation == \"Axial\"')\n",
        "\n",
        "SG = df.query('Orientation == \"Sagittal\"')\n",
        "\n",
        "CO = df.query('Orientation == \"Coronal\"')\n",
        "\n",
        "LG2 = df.query('Orientation == \"Long Axis 2 Cavities\"')\n",
        "\n",
        "LG3 = df.query('Orientation == \"Long Axis 3 Cavities\"')\n",
        "\n",
        "LG4 = df.query('Orientation == \"Long Axis 4 Cavities\"')\n",
        "\n",
        "ML1 = df.query('Orientation == \"Multiplanar\"')\n",
        "\n",
        "ML2 = df.query('Orientation == \"Multiplanar (Short axis)\"')\n",
        "\n",
        "ML3 = df.query('Orientation == \"Multiplanar (Radial)\"')\n",
        "\n",
        "NO = df.query('Orientation == \"None\"')\n"
      ],
      "execution_count": 0,
      "outputs": []
    },
    {
      "cell_type": "markdown",
      "metadata": {
        "colab_type": "text",
        "id": "rZRT24ccqeIT"
      },
      "source": [
        "#### Cartesian Normal vector(3d) plotting "
      ]
    },
    {
      "cell_type": "code",
      "metadata": {
        "colab_type": "code",
        "id": "PtnUAeUuqWCb",
        "colab": {}
      },
      "source": [
        "# Pick up only for Normal vector\n",
        "\n",
        "SH_1 = SH.loc[:,'CartesianNormalVector']\n",
        "AL_1 = AL.loc[:,'CartesianNormalVector']\n",
        "SG_1 = SG.loc[:,'CartesianNormalVector']\n",
        "CO_1 = CO.loc[:,'CartesianNormalVector']\n",
        "LG2_1 = LG2.loc[:,'CartesianNormalVector']\n",
        "LG3_1 = LG3.loc[:,'CartesianNormalVector']\n",
        "LG4_1 = LG4.loc[:,'CartesianNormalVector']\n",
        "ML1_1 = ML1.loc[:,'CartesianNormalVector']\n",
        "ML2_1 = ML2.loc[:,'CartesianNormalVector']\n",
        "ML3_1 = ML3.loc[:,'CartesianNormalVector']\n",
        "NO_1 =NO.loc[:,'CartesianNormalVector']\n"
      ],
      "execution_count": 0,
      "outputs": []
    },
    {
      "cell_type": "code",
      "metadata": {
        "colab_type": "code",
        "id": "Bzw76dibqlRC",
        "colab": {}
      },
      "source": [
        "# renumbering of index\n",
        "SH_2=SH_1.reset_index()\n",
        "AL_2=AL_1.reset_index()\n",
        "SG_2=SG_1.reset_index()\n",
        "CO_2=CO_1.reset_index()\n",
        "LG2_2=LG2_1.reset_index()\n",
        "LG3_2=LG3_1.reset_index()\n",
        "LG4_2 = LG4_1.reset_index()\n",
        "ML1_2 = ML1_1.reset_index()\n",
        "ML2_2 = ML2_1.reset_index()\n",
        "ML3_2 = ML3_1.reset_index()\n",
        "NO_2 = NO_1.reset_index()\n"
      ],
      "execution_count": 0,
      "outputs": []
    },
    {
      "cell_type": "markdown",
      "metadata": {
        "colab_type": "text",
        "id": "_BH5gxbv2JP-"
      },
      "source": [
        "Here, each data is String type, so we need to change it into the float type by using the following algorithm"
      ]
    },
    {
      "cell_type": "code",
      "metadata": {
        "colab_type": "code",
        "id": "SPQ3ZGlqqvVU",
        "outputId": "636df9d3-cf1a-4988-d157-3a7ff7f78476",
        "colab": {
          "base_uri": "https://localhost:8080/",
          "height": 119
        }
      },
      "source": [
        "# The problem is that CartesianNormalVector is str type, thus we need to convert them into the string type.\n",
        "\n",
        "A = SH_2.iloc[0,1]\n",
        "print(A)\n",
        "print(type(A))\n",
        "# First comma\n",
        "a = A.find(',')\n",
        "# Second comma\n",
        "b = A.find(',',a+1)\n",
        "# final parenthesis\n",
        "c = A.find(']',b+1)\n",
        "\n",
        "Ax = float(A[2:a])\n",
        "Ay = float(A[a+2:b])\n",
        "Az = float(A[b+2:c])\n",
        "\n",
        "print(Ax)\n",
        "print(Ay)\n",
        "print(Az)\n",
        "print(type(Ax))"
      ],
      "execution_count": 10,
      "outputs": [
        {
          "output_type": "stream",
          "text": [
            "[[-0.4969739551138094, 0.597330308291177, 0.6294548361362254]]\n",
            "<class 'str'>\n",
            "-0.4969739551138094\n",
            "0.597330308291177\n",
            "0.6294548361362254\n",
            "<class 'float'>\n"
          ],
          "name": "stdout"
        }
      ]
    },
    {
      "cell_type": "code",
      "metadata": {
        "colab_type": "code",
        "id": "WNHCdLM-q7a7",
        "colab": {}
      },
      "source": [
        "# The program to return the String data(3d)\n",
        "\n",
        "def StrC(x1):\n",
        "    AX = np.zeros(len(x1))\n",
        "    AY = np.zeros(len(x1))\n",
        "    AZ = np.zeros(len(x1))\n",
        "    for i in range(len(x1)):\n",
        "        A = x1.iloc[i,1]\n",
        "        a = A.find(',')\n",
        "        b = A.find(',',a+1)\n",
        "        c = A.find(']',b+1)\n",
        "        Ax = float(A[2:a])\n",
        "        AX[i] = Ax\n",
        "        Ay = float(A[a+2:b])\n",
        "        AY[i] = Ay\n",
        "        Az = float(A[b+2:c])\n",
        "        AZ[i] = Az\n",
        "    \n",
        "    return AX, AY, AZ"
      ],
      "execution_count": 0,
      "outputs": []
    },
    {
      "cell_type": "code",
      "metadata": {
        "colab_type": "code",
        "id": "wDjgW42_rCva",
        "outputId": "94806ab2-5df3-41df-eef4-1d6c24da30c6",
        "colab": {
          "base_uri": "https://localhost:8080/",
          "height": 265
        }
      },
      "source": [
        "# Check of clustering (I did it for the short axis)\n",
        "# We just pick up only single plane orientation, thus we must cut out the Multiplannar and None labeling.\n",
        "\n",
        "import matplotlib.cm as cm\n",
        "import matplotlib.pyplot as plt\n",
        "import matplotlib\n",
        "from mpl_toolkits.mplot3d import Axes3D\n",
        "\n",
        "fig = plt.figure()\n",
        "ax = fig.add_subplot(111, projection = '3d')\n",
        "\n",
        "AX,AY,AZ = StrC(SH_2)\n",
        "BX,BY,BZ = StrC(AL_2)\n",
        "CX,CY,CZ = StrC(SG_2)\n",
        "DX,DY,DZ = StrC(CO_2)\n",
        "EX,EY,EZ = StrC(LG2_2)\n",
        "FX,FY,FZ = StrC(LG3_2)\n",
        "GX,GY,GZ = StrC(LG4_2)\n",
        "\n",
        "ax.scatter(AX,AY,AZ, c='r', marker='o', label='short axis')\n",
        "ax.scatter(BX,BY,BZ, c='g', marker='o', label ='axial')\n",
        "ax.scatter(CX,CY,CZ, c='b', marker='o', label='sagital')\n",
        "ax.scatter(DX,DY,DZ, c='y', marker='o', label='coronal')\n",
        "ax.scatter(EX,EY,EZ, c='k', marker='x', label='long axis 2 cavities')\n",
        "ax.scatter(FX,FY,FZ, c='c', marker='x', label='long axis 3 cavities')\n",
        "ax.scatter(GX,GY,GZ, c='m', marker='x', label='long axis 4 cavities')\n",
        "\n",
        "ax.legend(loc='center left', bbox_to_anchor=(1, 0.5))"
      ],
      "execution_count": 12,
      "outputs": [
        {
          "output_type": "execute_result",
          "data": {
            "text/plain": [
              "<matplotlib.legend.Legend at 0x7ff31654e0f0>"
            ]
          },
          "metadata": {
            "tags": []
          },
          "execution_count": 12
        },
        {
          "output_type": "display_data",
          "data": {
            "image/png": "[encoded data removed]",
            "text/plain": [
              "<Figure size 432x288 with 1 Axes>"
            ]
          },
          "metadata": {
            "tags": []
          }
        }
      ]
    },
    {
      "cell_type": "markdown",
      "metadata": {
        "colab_type": "text",
        "id": "qj3FtUiCsW4v"
      },
      "source": [
        "#### for the spherical vector(2d) plotting"
      ]
    },
    {
      "cell_type": "code",
      "metadata": {
        "colab_type": "code",
        "id": "P_34-WuqsSLn",
        "colab": {}
      },
      "source": [
        "SH_3 = SH.loc[:,'SphericalNormalVector']\n",
        "AL_3 = AL.loc[:,'SphericalNormalVector']\n",
        "SG_3 = SG.loc[:,'SphericalNormalVector']\n",
        "CO_3 = CO.loc[:,'SphericalNormalVector']\n",
        "LG2_3 = LG2.loc[:,'SphericalNormalVector']\n",
        "LG3_3 = LG3.loc[:,'SphericalNormalVector']\n",
        "LG4_3 = LG4.loc[:,'SphericalNormalVector']\n",
        "\n",
        "SH_4=SH_3.reset_index()\n",
        "AL_4=AL_3.reset_index()\n",
        "SG_4=SG_3.reset_index()\n",
        "CO_4=CO_3.reset_index()\n",
        "LG2_4=LG2_3.reset_index()\n",
        "LG3_4=LG3_3.reset_index()\n",
        "LG4_4=LG4_3.reset_index()"
      ],
      "execution_count": 0,
      "outputs": []
    },
    {
      "cell_type": "code",
      "metadata": {
        "colab_type": "code",
        "id": "hryQacuXsSIo",
        "colab": {}
      },
      "source": [
        "def StrC1(x1):\n",
        "    AX = np.zeros(len(x1))\n",
        "    AY = np.zeros(len(x1))\n",
        "    for i in range(len(x1)):\n",
        "        A = x1.iloc[i,1]\n",
        "        a = A.find(',')\n",
        "        b = A.find(']',a+1)\n",
        "        Ax = float(A[2:a])\n",
        "        AX[i] = Ax\n",
        "        Ay = float(A[a+2:b])\n",
        "        AY[i] = Ay\n",
        "    \n",
        "    return AX, AY"
      ],
      "execution_count": 0,
      "outputs": []
    },
    {
      "cell_type": "code",
      "metadata": {
        "colab_type": "code",
        "id": "bhzj8ovtswyR",
        "outputId": "dc0107af-7677-43f3-cdf1-4956740e7ff3",
        "colab": {
          "base_uri": "https://localhost:8080/",
          "height": 0
        }
      },
      "source": [
        "# Check of clustering (I did it for the short axis)\n",
        "# We just pick up only single plane orientation, thus we must cut out the Multiplannar and None labeling.\n",
        "\n",
        "import matplotlib.cm as cm\n",
        "import matplotlib.pyplot as plt\n",
        "import matplotlib\n",
        "\n",
        "fig = plt.figure()\n",
        "ax = fig.add_subplot(111)\n",
        "\n",
        "AX1,AY1 = StrC1(SH_4)\n",
        "BX1,BY1 = StrC1(AL_4)\n",
        "CX1,CY1 = StrC1(SG_4)\n",
        "DX1,DY1 = StrC1(CO_4)\n",
        "EX1,EY1 = StrC1(LG2_4)\n",
        "FX1,FY1 = StrC1(LG3_4)\n",
        "GX1,GY1 = StrC1(LG4_4)\n",
        "\n",
        "ax.scatter(AX1,AY1, c='r', marker='o', label='short axis')\n",
        "ax.scatter(BX1,BY1, c='g', marker='o', label ='axial')\n",
        "ax.scatter(CX1,CY1, c='b', marker='o', label='sagital')\n",
        "ax.scatter(DX1,DY1, c='y', marker='o', label='coronal')\n",
        "ax.scatter(EX1,EY1, c='k', marker='x', label='long axis 2 cavities')\n",
        "ax.scatter(FX1,FY1, c='c', marker='x', label='long axis 3 cavities')\n",
        "ax.scatter(GX1,GY1, c='m', marker='x', label='long axis 4 cavities')\n",
        "\n",
        "ax.legend(loc='center left', bbox_to_anchor=(1, 0.5))"
      ],
      "execution_count": 15,
      "outputs": [
        {
          "output_type": "execute_result",
          "data": {
            "text/plain": [
              "<matplotlib.legend.Legend at 0x7ff314c833c8>"
            ]
          },
          "metadata": {
            "tags": []
          },
          "execution_count": 15
        },
        {
          "output_type": "display_data",
          "data": {
            "image/png": "[encoded data removed]",
            "text/plain": [
              "<Figure size 432x288 with 1 Axes>"
            ]
          },
          "metadata": {
            "tags": []
          }
        }
      ]
    },
    {
      "cell_type": "markdown",
      "metadata": {
        "colab_type": "text",
        "id": "VUBdum-4z7kM"
      },
      "source": [
        "Thus, in the result of plotting for normal cartesian vector and spherial normal vector, the data has clusters depending on the label. Thus, we can develop the neural network to recognise the image plane by using these vector as features."
      ]
    },
    {
      "cell_type": "markdown",
      "metadata": {
        "colab_type": "text",
        "id": "SLUzJ_QF0DH4"
      },
      "source": [
        "## Construction of neural network"
      ]
    },
    {
      "cell_type": "markdown",
      "metadata": {
        "colab_type": "text",
        "id": "EMrFDwAV0Ssb"
      },
      "source": [
        "### Data preparation (Creating the feature matrices and labeling)\n",
        "The candidate of feature should be image position patient, ImageOrientationPatient, CartesianNormalVector, and SphericalNormalVector. But these parameter are dependent each other, so as a first trial, we can use only CartesianNormalVector since their position has some tendency in the previous plotting result.\n",
        "\n",
        "Thus, we create the 3d matrices, including the number of data(12602), the number of vectors(almost 1 vector, but multiplanner has some different vectors), and the number of coordinate position(x,y,z=3).\n",
        "\n",
        "And one note is that in the case which the number of vectors is 1, the other element is 0."
      ]
    },
    {
      "cell_type": "markdown",
      "metadata": {
        "colab_type": "text",
        "id": "OzGqBBLl4qPa"
      },
      "source": [
        "Firstly, we try to find the maximum number of vectors in the case of multiplanner, in order to create the framework of 3d matrices."
      ]
    },
    {
      "cell_type": "code",
      "metadata": {
        "colab_type": "code",
        "id": "1XMBHjc-4zgf",
        "outputId": "17c835e7-e454-4163-8da8-d80e12876afc",
        "colab": {
          "base_uri": "https://localhost:8080/",
          "height": 102
        }
      },
      "source": [
        "## Maximum number of vector\n",
        "def MaxVector(x1):\n",
        "    for i in range(len(x1)):\n",
        "      A = x1.iloc[i,1]\n",
        "      a = A.count('[')\n",
        "    return a-1 # the number of vector should one less than the number of parenthesis. \n",
        "\n",
        "print(MaxVector(SH_2))\n",
        "print(MaxVector(ML1_2))\n",
        "print(MaxVector(ML2_2))\n",
        "print(MaxVector(ML3_2))\n",
        "print(MaxVector(NO_2))"
      ],
      "execution_count": 16,
      "outputs": [
        {
          "output_type": "stream",
          "text": [
            "1\n",
            "4\n",
            "3\n",
            "12\n",
            "0\n"
          ],
          "name": "stdout"
        }
      ]
    },
    {
      "cell_type": "markdown",
      "metadata": {
        "colab_type": "text",
        "id": "DKjy8H1R5ySG"
      },
      "source": [
        "Thus, the maximum number of vectors is 12. Thus, we must create the 3d matrix (12602/Number of data, 12/Number of vector, 3/Number of coordinate(x,y,z))\n",
        "\n",
        "Next, i create the algorithm to extract the element of vector from String type."
      ]
    },
    {
      "cell_type": "code",
      "metadata": {
        "colab_type": "code",
        "id": "mg5kSL075jI4",
        "colab": {}
      },
      "source": [
        "def NOR(x1):\n",
        "    AX = np.zeros((len(x1),12))\n",
        "    AY = np.zeros((len(x1),12))\n",
        "    AZ = np.zeros((len(x1),12))\n",
        "    for i in range(len(x1)):\n",
        "        A = x1.iloc[i,1]\n",
        "        N = A.count('[')\n",
        "        if N==1:\n",
        "          pass\n",
        "          \n",
        "        elif N==2:\n",
        "          a = -2\n",
        "          for j in range(N-1):\n",
        "            a = a+4\n",
        "            b = A.find(',',a+1)\n",
        "            Ax = float(A[a:b])\n",
        "            AX[i,j] = Ax\n",
        "            c = A.find(',',b+1)\n",
        "            Ay = float(A[b+2:c])\n",
        "            AY[i,j] = Ay\n",
        "            a = A.find(']',c+1)\n",
        "            Az = float(A[c+2:a])\n",
        "            AZ[i,j] = Az\n",
        "\n",
        "        elif N==3:\n",
        "            a = -2\n",
        "            for j in range(N-1):\n",
        "              a = a+4\n",
        "              b = A.find(',',a+1)\n",
        "              Ax = float(A[a:b])\n",
        "              AX[i,j] = Ax\n",
        "              c = A.find(',',b+1)\n",
        "              Ay = float(A[b+2:c])\n",
        "              AY[i,j] = Ay\n",
        "              a = A.find(']',c+1)\n",
        "              Az = float(A[c+2:a])\n",
        "              AZ[i,j] = Az\n",
        "\n",
        "        elif N==4:\n",
        "            a = -2\n",
        "            for j in range(N-1):\n",
        "              a = a+4\n",
        "              b = A.find(',',a+1)\n",
        "              Ax = float(A[a:b])\n",
        "              AX[i,j] = Ax\n",
        "              c = A.find(',',b+1)\n",
        "              Ay = float(A[b+2:c])\n",
        "              AY[i,j] = Ay\n",
        "              a = A.find(']',c+1)\n",
        "              Az = float(A[c+2:a])\n",
        "              AZ[i,j] = Az     \n",
        "\n",
        "        elif N==5:\n",
        "            a = -2\n",
        "            for j in range(N-1):\n",
        "              a = a+4\n",
        "              b = A.find(',',a+1)\n",
        "              Ax = float(A[a:b])\n",
        "              AX[i,j] = Ax\n",
        "              c = A.find(',',b+1)\n",
        "              Ay = float(A[b+2:c])\n",
        "              AY[i,j] = Ay\n",
        "              a = A.find(']',c+1)\n",
        "              Az = float(A[c+2:a])\n",
        "              AZ[i,j] = Az\n",
        "                  \n",
        "        elif N==6:\n",
        "            a = -2\n",
        "            for j in range(N-1):\n",
        "              a = a+4\n",
        "              b = A.find(',',a+1)\n",
        "              Ax = float(A[a:b])\n",
        "              AX[i,j] = Ax\n",
        "              c = A.find(',',b+1)\n",
        "              Ay = float(A[b+2:c])\n",
        "              AY[i,j] = Ay\n",
        "              a = A.find(']',c+1)\n",
        "              Az = float(A[c+2:a])\n",
        "              AZ[i,j] = Az\n",
        "\n",
        "        elif N==7:\n",
        "            a = -2\n",
        "            for j in range(N-1):\n",
        "              a = a+4\n",
        "              b = A.find(',',a+1)\n",
        "              Ax = float(A[a:b])\n",
        "              AX[i,j] = Ax\n",
        "              c = A.find(',',b+1)\n",
        "              Ay = float(A[b+2:c])\n",
        "              AY[i,j] = Ay\n",
        "              a = A.find(']',c+1)\n",
        "              Az = float(A[c+2:a])\n",
        "              AZ[i,j] = Az\n",
        "\n",
        "        elif N==8:\n",
        "            a = -2\n",
        "            for j in range(N-1):\n",
        "              a = a+4\n",
        "              b = A.find(',',a+1)\n",
        "              Ax = float(A[a:b])\n",
        "              AX[i,j] = Ax\n",
        "              c = A.find(',',b+1)\n",
        "              Ay = float(A[b+2:c])\n",
        "              AY[i,j] = Ay\n",
        "              a = A.find(']',c+1)\n",
        "              Az = float(A[c+2:a])\n",
        "              AZ[i,j] = Az\n",
        "\n",
        "        elif N==9:\n",
        "            a = -2\n",
        "            for j in range(N-1):\n",
        "              a = a+4\n",
        "              b = A.find(',',a+1)\n",
        "              Ax = float(A[a:b])\n",
        "              AX[i,j] = Ax\n",
        "              c = A.find(',',b+1)\n",
        "              Ay = float(A[b+2:c])\n",
        "              AY[i,j] = Ay\n",
        "              a = A.find(']',c+1)\n",
        "              Az = float(A[c+2:a])\n",
        "              AZ[i,j] = Az\n",
        "\n",
        "        elif N==10:\n",
        "            a = -2\n",
        "            for j in range(N-1):\n",
        "              a = a+4\n",
        "              b = A.find(',',a+1)\n",
        "              Ax = float(A[a:b])\n",
        "              AX[i,j] = Ax\n",
        "              c = A.find(',',b+1)\n",
        "              Ay = float(A[b+2:c])\n",
        "              AY[i,j] = Ay\n",
        "              a = A.find(']',c+1)\n",
        "              Az = float(A[c+2:a])\n",
        "              AZ[i,j] = Az\n",
        "\n",
        "        elif N==11:\n",
        "            a = -2\n",
        "            for j in range(N-1):\n",
        "              a = a+4\n",
        "              b = A.find(',',a+1)\n",
        "              Ax = float(A[a:b])\n",
        "              AX[i,j] = Ax\n",
        "              c = A.find(',',b+1)\n",
        "              Ay = float(A[b+2:c])\n",
        "              AY[i,j] = Ay\n",
        "              a = A.find(']',c+1)\n",
        "              Az = float(A[c+2:a])\n",
        "              AZ[i,j] = Az\n",
        "\n",
        "        elif N==12:\n",
        "            a = -2\n",
        "            for j in range(N-1):\n",
        "              a = a+4\n",
        "              b = A.find(',',a+1)\n",
        "              Ax = float(A[a:b])\n",
        "              AX[i,j] = Ax\n",
        "              c = A.find(',',b+1)\n",
        "              Ay = float(A[b+2:c])\n",
        "              AY[i,j] = Ay\n",
        "              a = A.find(']',c+1)\n",
        "              Az = float(A[c+2:a])\n",
        "              AZ[i,j] = Az\n",
        "\n",
        "        elif N==13:\n",
        "            a = -2\n",
        "            for j in range(N-1):\n",
        "              a = a+4\n",
        "              b = A.find(',',a+1)\n",
        "              Ax = float(A[a:b])\n",
        "              AX[i,j] = Ax\n",
        "              c = A.find(',',b+1)\n",
        "              Ay = float(A[b+2:c])\n",
        "              AY[i,j] = Ay\n",
        "              a = A.find(']',c+1)\n",
        "              Az = float(A[c+2:a])\n",
        "              AZ[i,j] = Az\n",
        "\n",
        "\n",
        "    return AX, AY, AZ"
      ],
      "execution_count": 0,
      "outputs": []
    },
    {
      "cell_type": "code",
      "metadata": {
        "colab_type": "code",
        "id": "aSfaOVpj6Jw4",
        "colab": {}
      },
      "source": [
        "# construction of 2d planners\n",
        "\n",
        "AX,AY,AZ = NOR(SH_2)\n",
        "BX,BY,BZ = NOR(AL_2)\n",
        "CX,CY,CZ = NOR(SG_2)\n",
        "DX,DY,DZ = NOR(CO_2)\n",
        "EX,EY,EZ = NOR(LG2_2)\n",
        "FX,FY,FZ = NOR(LG3_2)\n",
        "GX,GY,GZ = NOR(LG4_2)\n",
        "HX,HY,HZ = NOR(ML1_2)\n",
        "IX,IY,IZ = NOR(ML2_2)\n",
        "JX,JY,JZ = NOR(ML3_2)\n",
        "KX,KY,KZ = NOR(NO_2)"
      ],
      "execution_count": 0,
      "outputs": []
    },
    {
      "cell_type": "markdown",
      "metadata": {
        "colab_type": "text",
        "id": "VLpxVvyk6fft"
      },
      "source": [
        "Next, i append each 2d planner matrix to construct the feature of 3d matrix."
      ]
    },
    {
      "cell_type": "code",
      "metadata": {
        "colab_type": "code",
        "id": "b2Tnf_Hl6bnz",
        "outputId": "62845ac2-3def-4df1-83ac-32b53064cb86",
        "colab": {
          "base_uri": "https://localhost:8080/",
          "height": 255
        }
      },
      "source": [
        "OX = np.vstack((AX,BX,CX,DX,EX,FX,GX,HX,IX,JX,KX))\n",
        "print(OX)\n",
        "print(OX.shape)\n",
        "\n",
        "OY = np.vstack((AY,BY,CY,DY,EY,FY,GY,HY,IY,JY,KY))\n",
        "\n",
        "OZ = np.vstack((AZ,BZ,CZ,DZ,EZ,FZ,GZ,HZ,IZ,JZ,KZ))"
      ],
      "execution_count": 19,
      "outputs": [
        {
          "output_type": "stream",
          "text": [
            "[[-0.49697396  0.          0.         ...  0.          0.\n",
            "   0.        ]\n",
            " [-0.69815851  0.          0.         ...  0.          0.\n",
            "   0.        ]\n",
            " [-0.69815847  0.          0.         ...  0.          0.\n",
            "   0.        ]\n",
            " ...\n",
            " [ 0.          0.          0.         ...  0.          0.\n",
            "   0.        ]\n",
            " [-0.64710254 -0.08482931  0.71121863 ...  0.          0.\n",
            "   0.        ]\n",
            " [ 0.          0.          0.         ...  0.          0.\n",
            "   0.        ]]\n",
            "(12602, 12)\n"
          ],
          "name": "stdout"
        }
      ]
    },
    {
      "cell_type": "code",
      "metadata": {
        "colab_type": "code",
        "id": "IdlwM8up6oSq",
        "outputId": "8da5ccf9-7820-4417-8393-5842656e7826",
        "colab": {
          "base_uri": "https://localhost:8080/",
          "height": 34
        }
      },
      "source": [
        "X = np.dstack((OX,OY,OZ))\n",
        "\n",
        "print(X.shape)"
      ],
      "execution_count": 20,
      "outputs": [
        {
          "output_type": "stream",
          "text": [
            "(12602, 12, 3)\n"
          ],
          "name": "stdout"
        }
      ]
    },
    {
      "cell_type": "markdown",
      "metadata": {
        "colab_type": "text",
        "id": "dB_7TwVR69Qv"
      },
      "source": [
        "Next, i create the labeling of each orientation (11 classes). For the neural network, we're supposed to use one-hot encorder because this task is multiple-classification."
      ]
    },
    {
      "cell_type": "code",
      "metadata": {
        "colab_type": "code",
        "id": "Go-5ymd967ea",
        "outputId": "d1d2d7ba-0a4a-490f-fe3d-025053c3ac1e",
        "colab": {
          "base_uri": "https://localhost:8080/",
          "height": 34
        }
      },
      "source": [
        "L0 = np.zeros((len(SH),1))\n",
        "L1 = np.ones((len(AL),1))\n",
        "L2 = 2*np.ones((len(SG),1))\n",
        "L3 = 3*np.ones((len(CO),1))\n",
        "L4 = 4*np.ones((len(LG2),1))\n",
        "L5 = 5*np.ones((len(LG3),1))\n",
        "L6 = 6*np.ones((len(LG4),1))\n",
        "L7 = 7*np.ones((len(ML1),1))\n",
        "L8 = 8*np.ones((len(ML2),1))\n",
        "L9 = 9*np.ones((len(ML3),1))\n",
        "L10 = 10*np.ones((len(NO),1))\n",
        "\n",
        "y = np.vstack((L0,L1,L2,L3,L4,L5,L6,L7,L8,L9,L10))\n",
        "print(y.shape)"
      ],
      "execution_count": 21,
      "outputs": [
        {
          "output_type": "stream",
          "text": [
            "(12602, 1)\n"
          ],
          "name": "stdout"
        }
      ]
    },
    {
      "cell_type": "code",
      "metadata": {
        "colab_type": "code",
        "id": "BUepabHl7zhJ",
        "colab": {}
      },
      "source": [
        "# one hot encorder for labeling\n",
        "y=to_categorical(y, num_classes = 11)"
      ],
      "execution_count": 0,
      "outputs": []
    },
    {
      "cell_type": "markdown",
      "metadata": {
        "colab_type": "text",
        "id": "Z_dZNcBJ79BC"
      },
      "source": [
        "Next, the sample is subject to be shuffled to evaluate whether our algorithm work very well or not. And we add one more dimention for feature matrices because in this time, we try to use the CNN and we want to mimic the feature as images."
      ]
    },
    {
      "cell_type": "code",
      "metadata": {
        "colab_type": "code",
        "id": "qt8_XEZu77Xi",
        "outputId": "546d95ab-7fb5-405c-96c9-ab6aa7c72093",
        "colab": {
          "base_uri": "https://localhost:8080/",
          "height": 884
        }
      },
      "source": [
        "# shuffling of the data\n",
        "indeces=np.arange(len(X)) # Integers from 0 to N-1\n",
        "print(indeces)\n",
        "\n",
        "np.random.shuffle(indeces)\n",
        "print(indeces)\n",
        "\n",
        "Xp=X[indeces]\n",
        "Yp=y[indeces]\n",
        "\n",
        "print(Xp)"
      ],
      "execution_count": 23,
      "outputs": [
        {
          "output_type": "stream",
          "text": [
            "[    0     1     2 ... 12599 12600 12601]\n",
            "[10340  9067  7919 ...  1346 11646  3582]\n",
            "[[[-0.          1.          0.        ]\n",
            "  [ 0.          0.          0.        ]\n",
            "  [ 0.          0.          0.        ]\n",
            "  ...\n",
            "  [ 0.          0.          0.        ]\n",
            "  [ 0.          0.          0.        ]\n",
            "  [ 0.          0.          0.        ]]\n",
            "\n",
            " [[ 0.          0.          1.        ]\n",
            "  [ 0.          0.          0.        ]\n",
            "  [ 0.          0.          0.        ]\n",
            "  ...\n",
            "  [ 0.          0.          0.        ]\n",
            "  [ 0.          0.          0.        ]\n",
            "  [ 0.          0.          0.        ]]\n",
            "\n",
            " [[-0.56321122  0.74618844  0.35495906]\n",
            "  [ 0.          0.          0.        ]\n",
            "  [ 0.          0.          0.        ]\n",
            "  ...\n",
            "  [ 0.          0.          0.        ]\n",
            "  [ 0.          0.          0.        ]\n",
            "  [ 0.          0.          0.        ]]\n",
            "\n",
            " ...\n",
            "\n",
            " [[-0.66269306  0.59041102  0.46070895]\n",
            "  [ 0.          0.          0.        ]\n",
            "  [ 0.          0.          0.        ]\n",
            "  ...\n",
            "  [ 0.          0.          0.        ]\n",
            "  [ 0.          0.          0.        ]\n",
            "  [ 0.          0.          0.        ]]\n",
            "\n",
            " [[-0.55721133  0.58088529  0.59336987]\n",
            "  [-0.557211    0.58088518  0.59337031]\n",
            "  [-0.55721135  0.58088532  0.59336983]\n",
            "  ...\n",
            "  [ 0.          0.          0.        ]\n",
            "  [ 0.          0.          0.        ]\n",
            "  [ 0.          0.          0.        ]]\n",
            "\n",
            " [[-0.70221855  0.59802782  0.38633124]\n",
            "  [ 0.          0.          0.        ]\n",
            "  [ 0.          0.          0.        ]\n",
            "  ...\n",
            "  [ 0.          0.          0.        ]\n",
            "  [ 0.          0.          0.        ]\n",
            "  [ 0.          0.          0.        ]]]\n"
          ],
          "name": "stdout"
        }
      ]
    },
    {
      "cell_type": "code",
      "metadata": {
        "colab_type": "code",
        "id": "RZe0BVf28Z8x",
        "outputId": "1d7865fe-e1bc-4695-9442-4d1e25c8584f",
        "colab": {
          "base_uri": "https://localhost:8080/",
          "height": 34
        }
      },
      "source": [
        "# adding one more dimention\n",
        "\n",
        "Xp=np.expand_dims(Xp,axis=3)\n",
        "print(Xp.shape)"
      ],
      "execution_count": 24,
      "outputs": [
        {
          "output_type": "stream",
          "text": [
            "(12602, 12, 3, 1)\n"
          ],
          "name": "stdout"
        }
      ]
    },
    {
      "cell_type": "markdown",
      "metadata": {
        "colab_type": "text",
        "id": "b-Wsp4s784_4"
      },
      "source": [
        "### Construction of Convolutional network (CNNs)\n",
        "Firstly, i just splitted the data into training-set, validation-set and test set as follows."
      ]
    },
    {
      "cell_type": "code",
      "metadata": {
        "colab_type": "code",
        "id": "r_CCNdma8xzC",
        "colab": {}
      },
      "source": [
        "from sklearn.model_selection import train_test_split\n",
        "\n",
        "X_train, X_test, y_train, y_test =train_test_split(Xp, Yp, test_size=0.25, random_state=42)\n",
        "\n",
        "X_train, X_validation, y_train, y_validation =train_test_split(Xp, Yp, test_size=0.25, random_state=42)\n"
      ],
      "execution_count": 0,
      "outputs": []
    },
    {
      "cell_type": "code",
      "metadata": {
        "colab_type": "code",
        "id": "1Oz_lrhZ9J3g",
        "colab": {
          "base_uri": "https://localhost:8080/",
          "height": 564
        },
        "outputId": "67cdb3d5-52fe-4e9c-df25-28e5560ac10e"
      },
      "source": [
        "# Set the CNN model \n",
        "# my CNN architechture is In -> [[Conv2D->relu] -> Flatten -> Dense -> Dropout -> Out\n",
        "num_classes = 11\n",
        "input_shape = X_train[0].shape\n",
        "\n",
        "#set of CONV => RELU => POOL layers\n",
        "model = Sequential()\n",
        "model.add(Conv2D(filters=16, kernel_size=(2, 2), strides=(1, 1), padding='same', activation='relu',input_shape =input_shape))\n",
        "model.add(BatchNormalization())\n",
        "model.add(MaxPool2D(pool_size=(2, 2)))\n",
        "model.add(Dropout(0.25))\n",
        "\n",
        "\n",
        "\n",
        "#flatten and softmax\n",
        "model.add(Flatten())\n",
        "model.add(Dense(units=128, activation='relu'))\n",
        "model.add(Dropout(0.5))\n",
        "model.add(Dense(units=11, activation='softmax'))\n",
        "\n",
        "# Define the optimizer\n",
        "\n",
        "keras.optimizers.Adam(lr=0.01, beta_1=0.9, beta_2=0.999, epsilon=None, decay=0.0, amsgrad=False)\n",
        "# Compile the model\n",
        "\n",
        "model.compile(loss='categorical_crossentropy',optimizer='Adam', metrics=[\"accuracy\"])"
      ],
      "execution_count": 26,
      "outputs": [
        {
          "output_type": "stream",
          "text": [
            "WARNING:tensorflow:From /usr/local/lib/python3.6/dist-packages/keras/backend/tensorflow_backend.py:66: The name tf.get_default_graph is deprecated. Please use tf.compat.v1.get_default_graph instead.\n",
            "\n",
            "WARNING:tensorflow:From /usr/local/lib/python3.6/dist-packages/keras/backend/tensorflow_backend.py:541: The name tf.placeholder is deprecated. Please use tf.compat.v1.placeholder instead.\n",
            "\n",
            "WARNING:tensorflow:From /usr/local/lib/python3.6/dist-packages/keras/backend/tensorflow_backend.py:4432: The name tf.random_uniform is deprecated. Please use tf.random.uniform instead.\n",
            "\n",
            "WARNING:tensorflow:From /usr/local/lib/python3.6/dist-packages/keras/backend/tensorflow_backend.py:190: The name tf.get_default_session is deprecated. Please use tf.compat.v1.get_default_session instead.\n",
            "\n",
            "WARNING:tensorflow:From /usr/local/lib/python3.6/dist-packages/keras/backend/tensorflow_backend.py:197: The name tf.ConfigProto is deprecated. Please use tf.compat.v1.ConfigProto instead.\n",
            "\n",
            "WARNING:tensorflow:From /usr/local/lib/python3.6/dist-packages/keras/backend/tensorflow_backend.py:203: The name tf.Session is deprecated. Please use tf.compat.v1.Session instead.\n",
            "\n",
            "WARNING:tensorflow:From /usr/local/lib/python3.6/dist-packages/keras/backend/tensorflow_backend.py:207: The name tf.global_variables is deprecated. Please use tf.compat.v1.global_variables instead.\n",
            "\n",
            "WARNING:tensorflow:From /usr/local/lib/python3.6/dist-packages/keras/backend/tensorflow_backend.py:216: The name tf.is_variable_initialized is deprecated. Please use tf.compat.v1.is_variable_initialized instead.\n",
            "\n",
            "WARNING:tensorflow:From /usr/local/lib/python3.6/dist-packages/keras/backend/tensorflow_backend.py:223: The name tf.variables_initializer is deprecated. Please use tf.compat.v1.variables_initializer instead.\n",
            "\n",
            "WARNING:tensorflow:From /usr/local/lib/python3.6/dist-packages/keras/backend/tensorflow_backend.py:2041: The name tf.nn.fused_batch_norm is deprecated. Please use tf.compat.v1.nn.fused_batch_norm instead.\n",
            "\n",
            "WARNING:tensorflow:From /usr/local/lib/python3.6/dist-packages/keras/backend/tensorflow_backend.py:148: The name tf.placeholder_with_default is deprecated. Please use tf.compat.v1.placeholder_with_default instead.\n",
            "\n",
            "WARNING:tensorflow:From /usr/local/lib/python3.6/dist-packages/keras/backend/tensorflow_backend.py:4267: The name tf.nn.max_pool is deprecated. Please use tf.nn.max_pool2d instead.\n",
            "\n",
            "WARNING:tensorflow:From /usr/local/lib/python3.6/dist-packages/keras/backend/tensorflow_backend.py:3733: calling dropout (from tensorflow.python.ops.nn_ops) with keep_prob is deprecated and will be removed in a future version.\n",
            "Instructions for updating:\n",
            "Please use `rate` instead of `keep_prob`. Rate should be set to `rate = 1 - keep_prob`.\n",
            "WARNING:tensorflow:From /usr/local/lib/python3.6/dist-packages/keras/optimizers.py:793: The name tf.train.Optimizer is deprecated. Please use tf.compat.v1.train.Optimizer instead.\n",
            "\n",
            "WARNING:tensorflow:From /usr/local/lib/python3.6/dist-packages/keras/backend/tensorflow_backend.py:3576: The name tf.log is deprecated. Please use tf.math.log instead.\n",
            "\n"
          ],
          "name": "stdout"
        }
      ]
    },
    {
      "cell_type": "code",
      "metadata": {
        "colab_type": "code",
        "id": "P5RwXr769ZTS",
        "outputId": "b02bae5c-3a11-46a2-80f5-8da6596be264",
        "colab": {
          "base_uri": "https://localhost:8080/",
          "height": 442
        }
      },
      "source": [
        "print (model.summary())"
      ],
      "execution_count": 27,
      "outputs": [
        {
          "output_type": "stream",
          "text": [
            "Model: \"sequential_1\"\n",
            "_________________________________________________________________\n",
            "Layer (type)                 Output Shape              Param #   \n",
            "=================================================================\n",
            "conv2d_1 (Conv2D)            (None, 12, 3, 16)         80        \n",
            "_________________________________________________________________\n",
            "batch_normalization_1 (Batch (None, 12, 3, 16)         64        \n",
            "_________________________________________________________________\n",
            "max_pooling2d_1 (MaxPooling2 (None, 6, 1, 16)          0         \n",
            "_________________________________________________________________\n",
            "dropout_1 (Dropout)          (None, 6, 1, 16)          0         \n",
            "_________________________________________________________________\n",
            "flatten_1 (Flatten)          (None, 96)                0         \n",
            "_________________________________________________________________\n",
            "dense_1 (Dense)              (None, 128)               12416     \n",
            "_________________________________________________________________\n",
            "dropout_2 (Dropout)          (None, 128)               0         \n",
            "_________________________________________________________________\n",
            "dense_2 (Dense)              (None, 11)                1419      \n",
            "=================================================================\n",
            "Total params: 13,979\n",
            "Trainable params: 13,947\n",
            "Non-trainable params: 32\n",
            "_________________________________________________________________\n",
            "None\n"
          ],
          "name": "stdout"
        }
      ]
    },
    {
      "cell_type": "markdown",
      "metadata": {
        "colab_type": "text",
        "id": "7ZQNGPVv-Bsg"
      },
      "source": [
        "Training the CNNs as follows, in this case i did the 50 epochs."
      ]
    },
    {
      "cell_type": "code",
      "metadata": {
        "colab_type": "code",
        "id": "GpmErGp99kQx",
        "outputId": "a809f22a-319f-4489-94e5-14bb58753dca",
        "colab": {
          "base_uri": "https://localhost:8080/",
          "height": 1000
        }
      },
      "source": [
        "hist=model.fit(Xp,Yp,batch_size=10,validation_split=0.25,nb_epoch=50,shuffle=True)"
      ],
      "execution_count": 28,
      "outputs": [
        {
          "output_type": "stream",
          "text": [
            "WARNING:tensorflow:From /usr/local/lib/python3.6/dist-packages/tensorflow_core/python/ops/math_grad.py:1424: where (from tensorflow.python.ops.array_ops) is deprecated and will be removed in a future version.\n",
            "Instructions for updating:\n",
            "Use tf.where in 2.0, which has the same broadcast rule as np.where\n"
          ],
          "name": "stdout"
        },
        {
          "output_type": "stream",
          "text": [
            "/usr/local/lib/python3.6/dist-packages/ipykernel_launcher.py:1: UserWarning: The `nb_epoch` argument in `fit` has been renamed `epochs`.\n",
            "  \"\"\"Entry point for launching an IPython kernel.\n"
          ],
          "name": "stderr"
        },
        {
          "output_type": "stream",
          "text": [
            "WARNING:tensorflow:From /usr/local/lib/python3.6/dist-packages/keras/backend/tensorflow_backend.py:1033: The name tf.assign_add is deprecated. Please use tf.compat.v1.assign_add instead.\n",
            "\n",
            "WARNING:tensorflow:From /usr/local/lib/python3.6/dist-packages/keras/backend/tensorflow_backend.py:1020: The name tf.assign is deprecated. Please use tf.compat.v1.assign instead.\n",
            "\n",
            "Train on 9451 samples, validate on 3151 samples\n",
            "Epoch 1/50\n",
            "9451/9451 [==============================] - 3s 302us/step - loss: 0.4891 - acc: 0.8740 - val_loss: 0.0932 - val_acc: 0.9835\n",
            "Epoch 2/50\n",
            "9451/9451 [==============================] - 2s 237us/step - loss: 0.1850 - acc: 0.9475 - val_loss: 0.0697 - val_acc: 0.9835\n",
            "Epoch 3/50\n",
            "9451/9451 [==============================] - 2s 233us/step - loss: 0.1335 - acc: 0.9617 - val_loss: 0.0642 - val_acc: 0.9806\n",
            "Epoch 4/50\n",
            "9451/9451 [==============================] - 2s 230us/step - loss: 0.1110 - acc: 0.9696 - val_loss: 0.0556 - val_acc: 0.9889\n",
            "Epoch 5/50\n",
            "9451/9451 [==============================] - 2s 233us/step - loss: 0.1101 - acc: 0.9709 - val_loss: 0.0512 - val_acc: 0.9898\n",
            "Epoch 6/50\n",
            "9451/9451 [==============================] - 2s 234us/step - loss: 0.0952 - acc: 0.9750 - val_loss: 0.0484 - val_acc: 0.9902\n",
            "Epoch 7/50\n",
            "9451/9451 [==============================] - 2s 232us/step - loss: 0.0937 - acc: 0.9748 - val_loss: 0.0461 - val_acc: 0.9895\n",
            "Epoch 8/50\n",
            "9451/9451 [==============================] - 2s 231us/step - loss: 0.0883 - acc: 0.9752 - val_loss: 0.0522 - val_acc: 0.9902\n",
            "Epoch 9/50\n",
            "9451/9451 [==============================] - 2s 234us/step - loss: 0.0861 - acc: 0.9782 - val_loss: 0.0425 - val_acc: 0.9921\n",
            "Epoch 10/50\n",
            "9451/9451 [==============================] - 2s 243us/step - loss: 0.0775 - acc: 0.9797 - val_loss: 0.0495 - val_acc: 0.9898\n",
            "Epoch 11/50\n",
            "9451/9451 [==============================] - 2s 233us/step - loss: 0.0774 - acc: 0.9782 - val_loss: 0.0533 - val_acc: 0.9902\n",
            "Epoch 12/50\n",
            "9451/9451 [==============================] - 2s 228us/step - loss: 0.0781 - acc: 0.9808 - val_loss: 0.0480 - val_acc: 0.9892\n",
            "Epoch 13/50\n",
            "9451/9451 [==============================] - 2s 235us/step - loss: 0.0800 - acc: 0.9785 - val_loss: 0.0466 - val_acc: 0.9892\n",
            "Epoch 14/50\n",
            "9451/9451 [==============================] - 2s 232us/step - loss: 0.0734 - acc: 0.9800 - val_loss: 0.0408 - val_acc: 0.9908\n",
            "Epoch 15/50\n",
            "9451/9451 [==============================] - 2s 231us/step - loss: 0.0769 - acc: 0.9804 - val_loss: 0.0418 - val_acc: 0.9930\n",
            "Epoch 16/50\n",
            "9451/9451 [==============================] - 2s 237us/step - loss: 0.0713 - acc: 0.9832 - val_loss: 0.0422 - val_acc: 0.9905\n",
            "Epoch 17/50\n",
            "9451/9451 [==============================] - 2s 231us/step - loss: 0.0703 - acc: 0.9798 - val_loss: 0.0391 - val_acc: 0.9924\n",
            "Epoch 18/50\n",
            "9451/9451 [==============================] - 2s 228us/step - loss: 0.0687 - acc: 0.9815 - val_loss: 0.0383 - val_acc: 0.9930\n",
            "Epoch 19/50\n",
            "9451/9451 [==============================] - 2s 227us/step - loss: 0.0721 - acc: 0.9803 - val_loss: 0.0383 - val_acc: 0.9924\n",
            "Epoch 20/50\n",
            "9451/9451 [==============================] - 2s 231us/step - loss: 0.0703 - acc: 0.9808 - val_loss: 0.0381 - val_acc: 0.9933\n",
            "Epoch 21/50\n",
            "9451/9451 [==============================] - 2s 232us/step - loss: 0.0701 - acc: 0.9834 - val_loss: 0.0392 - val_acc: 0.9930\n",
            "Epoch 22/50\n",
            "9451/9451 [==============================] - 2s 233us/step - loss: 0.0693 - acc: 0.9832 - val_loss: 0.0380 - val_acc: 0.9930\n",
            "Epoch 23/50\n",
            "9451/9451 [==============================] - 2s 231us/step - loss: 0.0690 - acc: 0.9826 - val_loss: 0.0407 - val_acc: 0.9933\n",
            "Epoch 24/50\n",
            "9451/9451 [==============================] - 2s 232us/step - loss: 0.0710 - acc: 0.9823 - val_loss: 0.0405 - val_acc: 0.9917\n",
            "Epoch 25/50\n",
            "9451/9451 [==============================] - 2s 229us/step - loss: 0.0687 - acc: 0.9837 - val_loss: 0.0427 - val_acc: 0.9911\n",
            "Epoch 26/50\n",
            "9451/9451 [==============================] - 2s 229us/step - loss: 0.0680 - acc: 0.9828 - val_loss: 0.0386 - val_acc: 0.9930\n",
            "Epoch 27/50\n",
            "9451/9451 [==============================] - 2s 231us/step - loss: 0.0645 - acc: 0.9833 - val_loss: 0.0381 - val_acc: 0.9911\n",
            "Epoch 28/50\n",
            "9451/9451 [==============================] - 2s 230us/step - loss: 0.0635 - acc: 0.9842 - val_loss: 0.0479 - val_acc: 0.9848\n",
            "Epoch 29/50\n",
            "9451/9451 [==============================] - 2s 239us/step - loss: 0.0652 - acc: 0.9850 - val_loss: 0.0394 - val_acc: 0.9927\n",
            "Epoch 30/50\n",
            "9451/9451 [==============================] - 2s 235us/step - loss: 0.0612 - acc: 0.9847 - val_loss: 0.0371 - val_acc: 0.9921\n",
            "Epoch 31/50\n",
            "9451/9451 [==============================] - 2s 230us/step - loss: 0.0715 - acc: 0.9823 - val_loss: 0.0373 - val_acc: 0.9917\n",
            "Epoch 32/50\n",
            "9451/9451 [==============================] - 2s 234us/step - loss: 0.0654 - acc: 0.9824 - val_loss: 0.0375 - val_acc: 0.9921\n",
            "Epoch 33/50\n",
            "9451/9451 [==============================] - 2s 236us/step - loss: 0.0657 - acc: 0.9856 - val_loss: 0.0399 - val_acc: 0.9921\n",
            "Epoch 34/50\n",
            "9451/9451 [==============================] - 2s 233us/step - loss: 0.0640 - acc: 0.9837 - val_loss: 0.0370 - val_acc: 0.9921\n",
            "Epoch 35/50\n",
            "9451/9451 [==============================] - 2s 233us/step - loss: 0.0634 - acc: 0.9844 - val_loss: 0.0363 - val_acc: 0.9927\n",
            "Epoch 36/50\n",
            "9451/9451 [==============================] - 2s 232us/step - loss: 0.0716 - acc: 0.9835 - val_loss: 0.0376 - val_acc: 0.9924\n",
            "Epoch 37/50\n",
            "9451/9451 [==============================] - 2s 236us/step - loss: 0.0641 - acc: 0.9839 - val_loss: 0.0368 - val_acc: 0.9930\n",
            "Epoch 38/50\n",
            "9451/9451 [==============================] - 2s 234us/step - loss: 0.0634 - acc: 0.9855 - val_loss: 0.0381 - val_acc: 0.9924\n",
            "Epoch 39/50\n",
            "9451/9451 [==============================] - 2s 228us/step - loss: 0.0564 - acc: 0.9848 - val_loss: 0.0365 - val_acc: 0.9933\n",
            "Epoch 40/50\n",
            "9451/9451 [==============================] - 2s 230us/step - loss: 0.0661 - acc: 0.9835 - val_loss: 0.0392 - val_acc: 0.9911\n",
            "Epoch 41/50\n",
            "9451/9451 [==============================] - 2s 237us/step - loss: 0.0686 - acc: 0.9836 - val_loss: 0.0372 - val_acc: 0.9930\n",
            "Epoch 42/50\n",
            "9451/9451 [==============================] - 2s 233us/step - loss: 0.0645 - acc: 0.9841 - val_loss: 0.0339 - val_acc: 0.9927\n",
            "Epoch 43/50\n",
            "9451/9451 [==============================] - 2s 240us/step - loss: 0.0632 - acc: 0.9847 - val_loss: 0.0344 - val_acc: 0.9937\n",
            "Epoch 44/50\n",
            "9451/9451 [==============================] - 2s 230us/step - loss: 0.0604 - acc: 0.9853 - val_loss: 0.0328 - val_acc: 0.9927\n",
            "Epoch 45/50\n",
            "9451/9451 [==============================] - 2s 229us/step - loss: 0.0634 - acc: 0.9842 - val_loss: 0.0354 - val_acc: 0.9937\n",
            "Epoch 46/50\n",
            "9451/9451 [==============================] - 2s 229us/step - loss: 0.0537 - acc: 0.9862 - val_loss: 0.0372 - val_acc: 0.9924\n",
            "Epoch 47/50\n",
            "9451/9451 [==============================] - 2s 231us/step - loss: 0.0641 - acc: 0.9853 - val_loss: 0.0371 - val_acc: 0.9924\n",
            "Epoch 48/50\n",
            "9451/9451 [==============================] - 2s 233us/step - loss: 0.0594 - acc: 0.9846 - val_loss: 0.0365 - val_acc: 0.9937\n",
            "Epoch 49/50\n",
            "9451/9451 [==============================] - 2s 228us/step - loss: 0.0571 - acc: 0.9850 - val_loss: 0.0371 - val_acc: 0.9937\n",
            "Epoch 50/50\n",
            "9451/9451 [==============================] - 2s 236us/step - loss: 0.0551 - acc: 0.9853 - val_loss: 0.0387 - val_acc: 0.9917\n"
          ],
          "name": "stdout"
        }
      ]
    },
    {
      "cell_type": "markdown",
      "metadata": {
        "colab_type": "text",
        "id": "3p7Bs2RM-Qbx"
      },
      "source": [
        "The result of training CNNs in terms of accuracy and model loss"
      ]
    },
    {
      "cell_type": "code",
      "metadata": {
        "colab_type": "code",
        "id": "axKXnHeB-AGP",
        "outputId": "4ce022c0-c4c1-43b5-b411-e8f107a5fd2b",
        "colab": {
          "base_uri": "https://localhost:8080/",
          "height": 590
        }
      },
      "source": [
        "print(hist.history.keys())\n",
        "# summarize history for accuracy\n",
        "plt.plot(hist.history['acc'])\n",
        "plt.plot(hist.history['val_acc'])\n",
        "plt.title('model accuracy')\n",
        "plt.ylabel('accuracy')\n",
        "plt.xlabel('epoch')\n",
        "plt.legend(['train', 'validation'], loc='upper left')\n",
        "plt.show()\n",
        "# summarize history for loss\n",
        "plt.plot(hist.history['loss'])\n",
        "plt.plot(hist.history['val_loss'])\n",
        "plt.title('model loss')\n",
        "plt.ylabel('loss')\n",
        "plt.xlabel('epoch')\n",
        "plt.legend(['train', 'validation'], loc='upper left')\n",
        "plt.show()\n"
      ],
      "execution_count": 29,
      "outputs": [
        {
          "output_type": "stream",
          "text": [
            "dict_keys(['val_loss', 'val_acc', 'loss', 'acc'])\n"
          ],
          "name": "stdout"
        },
        {
          "output_type": "display_data",
          "data": {
            "image/png": "[encoded data removed]",
            "text/plain": [
              "<Figure size 432x288 with 1 Axes>"
            ]
          },
          "metadata": {
            "tags": []
          }
        },
        {
          "output_type": "display_data",
          "data": {
            "image/png": "[encoded data removed]",
            "text/plain": [
              "<Figure size 432x288 with 1 Axes>"
            ]
          },
          "metadata": {
            "tags": []
          }
        }
      ]
    },
    {
      "cell_type": "markdown",
      "metadata": {
        "colab_type": "text",
        "id": "T8sQBwll-ZoS"
      },
      "source": [
        "### Evaluation of CNNs which i trained to classify the 11 different orientation\n",
        "Firstly, i created the function of confusion matrix, and i used this CNNs algorithm to predict the data labeling as follows."
      ]
    },
    {
      "cell_type": "code",
      "metadata": {
        "colab_type": "code",
        "id": "DvvVJMyK-q4m",
        "colab": {}
      },
      "source": [
        "## Construction of confusion matrix\n",
        "from sklearn.metrics import confusion_matrix\n",
        "from sklearn.metrics import classification_report\n",
        "import itertools\n",
        "def plot_confusion_matrix(cm, classes,\n",
        "                          normalize=False,\n",
        "                          title='Confusion matrix',\n",
        "                          cmap=plt.cm.Blues):\n",
        "    \"\"\"\n",
        "    This function prints and plots the confusion matrix.\n",
        "    Normalization can be applied by setting `normalize=True`.\n",
        "    \"\"\"\n",
        "    if normalize:\n",
        "        cm = cm.astype('float') / cm.sum(axis=1)[:, np.newaxis]\n",
        "        print(\"Normalized confusion matrix\")\n",
        "    else:\n",
        "        print('Confusion matrix, without normalization')\n",
        "\n",
        "    print(cm)\n",
        "\n",
        "    plt.figure(figsize=(10, 10), dpi=50)\n",
        "    plt.imshow(cm, interpolation='nearest', cmap=cmap)\n",
        "    plt.title(title)\n",
        "    plt.colorbar()\n",
        "    tick_marks = np.arange(len(classes))\n",
        "    plt.xticks(tick_marks, classes, rotation=45)\n",
        "    plt.yticks(tick_marks, classes)\n",
        "\n",
        "    fmt = '.2f' if normalize else 'd'\n",
        "    thresh = cm.max() / 2.\n",
        "    for i, j in itertools.product(range(cm.shape[0]), range(cm.shape[1])):\n",
        "        plt.text(j, i, format(cm[i, j], fmt),\n",
        "                 horizontalalignment=\"center\",\n",
        "                 color=\"white\" if cm[i, j] > thresh else \"black\")\n",
        "\n",
        "    plt.ylabel('True label')\n",
        "    plt.xlabel('Predicted label')\n",
        "    plt.tight_layout()"
      ],
      "execution_count": 0,
      "outputs": []
    },
    {
      "cell_type": "code",
      "metadata": {
        "colab_type": "code",
        "id": "7vK-sMwo--U1",
        "outputId": "78f58911-acfa-4de7-8074-069f42b29ea6",
        "colab": {
          "base_uri": "https://localhost:8080/",
          "height": 136
        }
      },
      "source": [
        "# Predict the values from the validation dataset\n",
        "y_validate_pred = model.predict(X_validation).round()\n",
        "print(y_validate_pred)\n",
        "\n",
        "# Convert predictions classes to one hot vectors \n",
        "Y_pred_classes=to_categorical(y_validate_pred, num_classes = 11)\n",
        "\n",
        "# Convert validation observations to one hot vectors\n",
        "Y_true=to_categorical(y_validation, num_classes = 11)\n",
        "\n",
        "\n",
        "# compute the confusion matrix\n",
        "confusion_mtx = confusion_matrix(y_validation.argmax(axis=1),y_validate_pred.argmax(axis=1))"
      ],
      "execution_count": 31,
      "outputs": [
        {
          "output_type": "stream",
          "text": [
            "[[0. 1. 0. ... 0. 0. 0.]\n",
            " [1. 0. 0. ... 0. 0. 0.]\n",
            " [0. 1. 0. ... 0. 0. 0.]\n",
            " ...\n",
            " [1. 0. 0. ... 0. 0. 0.]\n",
            " [1. 0. 0. ... 0. 0. 0.]\n",
            " [1. 0. 0. ... 0. 0. 0.]]\n"
          ],
          "name": "stdout"
        }
      ]
    },
    {
      "cell_type": "code",
      "metadata": {
        "colab_type": "code",
        "id": "23zQf8Wu_EYl",
        "outputId": "2cecdc47-c897-4004-fa8c-25f041f575d5",
        "colab": {
          "base_uri": "https://localhost:8080/",
          "height": 684
        }
      },
      "source": [
        "plot_confusion_matrix(confusion_mtx, classes = orientation_type_dict)"
      ],
      "execution_count": 32,
      "outputs": [
        {
          "output_type": "stream",
          "text": [
            "Confusion matrix, without normalization\n",
            "[[2071    0    0    0    0    0    0    0    0    0    0]\n",
            " [   3  425    0    0    0    0    0    0    0    0    0]\n",
            " [   0    0   72    0    0    0    0    0    0    0    0]\n",
            " [   0    0    0   40    0    0    0    0    0    0    0]\n",
            " [   0    0    0    0   88    0    0    0    0    0    0]\n",
            " [   1    0    0    0    1   49    0    0    0    0    0]\n",
            " [   0    1    0    0    0    0  113    0    0    0    0]\n",
            " [   1    0    0    0    0    0    0   41    0    0    0]\n",
            " [   0    0    0    0    0    0    0    0   44    0    0]\n",
            " [   1    0    0    0    0    0    0    0    1   87    0]\n",
            " [   4    0    0    0    0    0    3    2    0    2  101]]\n"
          ],
          "name": "stdout"
        },
        {
          "output_type": "display_data",
          "data": {
            "image/png": "[encoded data removed]",
            "text/plain": [
              "<Figure size 500x500 with 2 Axes>"
            ]
          },
          "metadata": {
            "tags": []
          }
        }
      ]
    },
    {
      "cell_type": "code",
      "metadata": {
        "colab_type": "code",
        "id": "KpjYkgOKBR5j",
        "outputId": "e47a23d4-f6dc-4b1b-da21-0fbd890dc544",
        "colab": {
          "base_uri": "https://localhost:8080/",
          "height": 872
        }
      },
      "source": [
        "plot_confusion_matrix(confusion_mtx,classes=orientation_type_dict, normalize=True, title='normalized confusion matrix')"
      ],
      "execution_count": 33,
      "outputs": [
        {
          "output_type": "stream",
          "text": [
            "Normalized confusion matrix\n",
            "[[1.         0.         0.         0.         0.         0.\n",
            "  0.         0.         0.         0.         0.        ]\n",
            " [0.00700935 0.99299065 0.         0.         0.         0.\n",
            "  0.         0.         0.         0.         0.        ]\n",
            " [0.         0.         1.         0.         0.         0.\n",
            "  0.         0.         0.         0.         0.        ]\n",
            " [0.         0.         0.         1.         0.         0.\n",
            "  0.         0.         0.         0.         0.        ]\n",
            " [0.         0.         0.         0.         1.         0.\n",
            "  0.         0.         0.         0.         0.        ]\n",
            " [0.01960784 0.         0.         0.         0.01960784 0.96078431\n",
            "  0.         0.         0.         0.         0.        ]\n",
            " [0.         0.00877193 0.         0.         0.         0.\n",
            "  0.99122807 0.         0.         0.         0.        ]\n",
            " [0.02380952 0.         0.         0.         0.         0.\n",
            "  0.         0.97619048 0.         0.         0.        ]\n",
            " [0.         0.         0.         0.         0.         0.\n",
            "  0.         0.         1.         0.         0.        ]\n",
            " [0.01123596 0.         0.         0.         0.         0.\n",
            "  0.         0.         0.01123596 0.97752809 0.        ]\n",
            " [0.03571429 0.         0.         0.         0.         0.\n",
            "  0.02678571 0.01785714 0.         0.01785714 0.90178571]]\n"
          ],
          "name": "stdout"
        },
        {
          "output_type": "display_data",
          "data": {
            "image/png": "[encoded data removed]",
            "text/plain": [
              "<Figure size 500x500 with 2 Axes>"
            ]
          },
          "metadata": {
            "tags": []
          }
        }
      ]
    },
    {
      "cell_type": "markdown",
      "metadata": {
        "colab_type": "text",
        "id": "-dq9IWJa_LZ-"
      },
      "source": [
        "Herein, nevertheless i used only cartesian normal vector as features and there were sample-imbalance(majority data is from short-axis), the accuracy of this CNNs algorithm was good (almost 100%).\n",
        "\n",
        "In the CNNs trainings, the accuracy was converged at around 10-20 epochs."
      ]
    }
  ]
}